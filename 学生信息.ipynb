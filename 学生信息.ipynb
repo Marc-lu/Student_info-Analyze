{
 "cells": [
  {
   "cell_type": "code",
   "execution_count": 1,
   "metadata": {},
   "outputs": [],
   "source": [
    "import pandas as pd\n",
    "df_student = pd.read_csv('bks_xsjbsjxx_out.csv')"
   ]
  },
  {
   "cell_type": "markdown",
   "metadata": {},
   "source": [
    "# 1. 各个表的信息"
   ]
  },
  {
   "cell_type": "markdown",
   "metadata": {},
   "source": [
    "## 1.1 学生数据基本信息\n",
    "1. 学生数据为32480条\n",
    "2. 出生地码(csdm) 籍贯(jg)国籍地区码(gjdqm) 港澳台侨外码(gatqwm) 健康状态码(jkzkm) 是否留学生(sflxs) 是否独生子女(sfdszn) 等数据缺失严重 基本大于32470 若后续不相关则去掉，若相关则取默认值或平均值\n",
    "3. 出生日期(csrq)部分缺失，可以考虑转化成年龄\n",
    "4. 民族码(mzm) 部分缺失，考虑取中位数\n",
    "5. 政治面貌码(zzmmm)部分缺失，考虑取中位数"
   ]
  },
  {
   "cell_type": "code",
   "execution_count": 2,
   "metadata": {
    "scrolled": true
   },
   "outputs": [
    {
     "data": {
      "text/plain": [
       "xh            0\n",
       "xm            0\n",
       "xb            0\n",
       "csrq        494\n",
       "csdm      32474\n",
       "jg        32480\n",
       "mzm        1970\n",
       "gjdqm     32471\n",
       "gatqwm    32475\n",
       "zzmmm      2519\n",
       "jkzkm     32472\n",
       "xyzjm     32474\n",
       "sflxs     32472\n",
       "sfdszn    32471\n",
       "dtype: int64"
      ]
     },
     "execution_count": 2,
     "metadata": {},
     "output_type": "execute_result"
    }
   ],
   "source": [
    "df_student.isnull().sum()"
   ]
  },
  {
   "cell_type": "code",
   "execution_count": 3,
   "metadata": {},
   "outputs": [],
   "source": [
    "student_sfdszn = df_student[df_student['sfdszn'].notnull()]"
   ]
  },
  {
   "cell_type": "code",
   "execution_count": 4,
   "metadata": {
    "scrolled": false
   },
   "outputs": [],
   "source": [
    "student_sflxs = df_student[df_student['sflxs'].notnull()]"
   ]
  },
  {
   "cell_type": "markdown",
   "metadata": {},
   "source": [
    "*是否留学生数据缺失严重，而且有数据的均为0，暂且认定为不是留学生，考虑去掉该属性*"
   ]
  },
  {
   "cell_type": "code",
   "execution_count": 5,
   "metadata": {
    "scrolled": true
   },
   "outputs": [],
   "source": [
    "student_jkzkm = df_student[df_student['jkzkm'].notnull()]"
   ]
  },
  {
   "cell_type": "markdown",
   "metadata": {},
   "source": [
    "*健康状况码缺失严重，有数据时均为1，默认全为健康，考虑去掉该属性*"
   ]
  },
  {
   "cell_type": "code",
   "execution_count": 6,
   "metadata": {
    "scrolled": false
   },
   "outputs": [],
   "source": [
    "student_gatqwm = df_student[df_student['gatqwm'].notnull()]"
   ]
  },
  {
   "cell_type": "markdown",
   "metadata": {},
   "source": [
    "*港澳台侨外数据缺失严重，均为0，考虑去掉*"
   ]
  },
  {
   "cell_type": "code",
   "execution_count": 7,
   "metadata": {
    "scrolled": true
   },
   "outputs": [],
   "source": [
    "student_gjdqm = df_student[df_student['gjdqm'].notnull()]"
   ]
  },
  {
   "cell_type": "markdown",
   "metadata": {},
   "source": [
    "*国籍地区码考虑去掉*"
   ]
  },
  {
   "cell_type": "markdown",
   "metadata": {},
   "source": [
    "*籍贯全缺失，去掉该属性*"
   ]
  },
  {
   "cell_type": "markdown",
   "metadata": {},
   "source": [
    "*出生地码考虑去掉*"
   ]
  },
  {
   "cell_type": "code",
   "execution_count": 8,
   "metadata": {
    "scrolled": true
   },
   "outputs": [
    {
     "data": {
      "text/plain": [
       "494"
      ]
     },
     "execution_count": 8,
     "metadata": {},
     "output_type": "execute_result"
    }
   ],
   "source": [
    "student_csrq = df_student[df_student['csrq'].isnull()]\n",
    "df_student['csrq'].isnull().sum()"
   ]
  },
  {
   "cell_type": "markdown",
   "metadata": {},
   "source": [
    "*将出生日期转换成年龄，然后用相同入学年份的中位数填补缺失值*"
   ]
  },
  {
   "cell_type": "code",
   "execution_count": 9,
   "metadata": {},
   "outputs": [
    {
     "data": {
      "text/plain": [
       "1970"
      ]
     },
     "execution_count": 9,
     "metadata": {},
     "output_type": "execute_result"
    }
   ],
   "source": [
    "student_mzm = df_student[df_student['mzm'].isnull()]\n",
    "df_student['mzm'].isnull().sum()"
   ]
  },
  {
   "cell_type": "code",
   "execution_count": 10,
   "metadata": {
    "scrolled": true
   },
   "outputs": [
    {
     "data": {
      "text/html": [
       "<div>\n",
       "<style scoped>\n",
       "    .dataframe tbody tr th:only-of-type {\n",
       "        vertical-align: middle;\n",
       "    }\n",
       "\n",
       "    .dataframe tbody tr th {\n",
       "        vertical-align: top;\n",
       "    }\n",
       "\n",
       "    .dataframe thead th {\n",
       "        text-align: right;\n",
       "    }\n",
       "</style>\n",
       "<table border=\"1\" class=\"dataframe\">\n",
       "  <thead>\n",
       "    <tr style=\"text-align: right;\">\n",
       "      <th></th>\n",
       "      <th>xh</th>\n",
       "      <th>xm</th>\n",
       "      <th>xb</th>\n",
       "      <th>csrq</th>\n",
       "      <th>csdm</th>\n",
       "      <th>jg</th>\n",
       "      <th>mzm</th>\n",
       "      <th>gjdqm</th>\n",
       "      <th>gatqwm</th>\n",
       "      <th>zzmmm</th>\n",
       "      <th>jkzkm</th>\n",
       "      <th>xyzjm</th>\n",
       "      <th>sflxs</th>\n",
       "      <th>sfdszn</th>\n",
       "    </tr>\n",
       "  </thead>\n",
       "  <tbody>\n",
       "    <tr>\n",
       "      <th>27697</th>\n",
       "      <td>201713030</td>\n",
       "      <td>贾*晴</td>\n",
       "      <td>女</td>\n",
       "      <td>1999-09</td>\n",
       "      <td>NaN</td>\n",
       "      <td>NaN</td>\n",
       "      <td>NaN</td>\n",
       "      <td>NaN</td>\n",
       "      <td>NaN</td>\n",
       "      <td>NaN</td>\n",
       "      <td>NaN</td>\n",
       "      <td>NaN</td>\n",
       "      <td>NaN</td>\n",
       "      <td>NaN</td>\n",
       "    </tr>\n",
       "    <tr>\n",
       "      <th>28642</th>\n",
       "      <td>201762088</td>\n",
       "      <td>杜*</td>\n",
       "      <td>男</td>\n",
       "      <td>2000-02</td>\n",
       "      <td>NaN</td>\n",
       "      <td>NaN</td>\n",
       "      <td>NaN</td>\n",
       "      <td>NaN</td>\n",
       "      <td>NaN</td>\n",
       "      <td>NaN</td>\n",
       "      <td>NaN</td>\n",
       "      <td>NaN</td>\n",
       "      <td>NaN</td>\n",
       "      <td>NaN</td>\n",
       "    </tr>\n",
       "    <tr>\n",
       "      <th>18272</th>\n",
       "      <td>201509062</td>\n",
       "      <td>宋*义</td>\n",
       "      <td>男</td>\n",
       "      <td>1997-03</td>\n",
       "      <td>NaN</td>\n",
       "      <td>NaN</td>\n",
       "      <td>NaN</td>\n",
       "      <td>NaN</td>\n",
       "      <td>NaN</td>\n",
       "      <td>NaN</td>\n",
       "      <td>NaN</td>\n",
       "      <td>NaN</td>\n",
       "      <td>NaN</td>\n",
       "      <td>NaN</td>\n",
       "    </tr>\n",
       "    <tr>\n",
       "      <th>23135</th>\n",
       "      <td>201742069</td>\n",
       "      <td>苏*瑶</td>\n",
       "      <td>女</td>\n",
       "      <td>1999-08</td>\n",
       "      <td>NaN</td>\n",
       "      <td>NaN</td>\n",
       "      <td>NaN</td>\n",
       "      <td>NaN</td>\n",
       "      <td>NaN</td>\n",
       "      <td>NaN</td>\n",
       "      <td>NaN</td>\n",
       "      <td>NaN</td>\n",
       "      <td>NaN</td>\n",
       "      <td>NaN</td>\n",
       "    </tr>\n",
       "    <tr>\n",
       "      <th>27871</th>\n",
       "      <td>201742098</td>\n",
       "      <td>邓*凌</td>\n",
       "      <td>男</td>\n",
       "      <td>2000-07</td>\n",
       "      <td>NaN</td>\n",
       "      <td>NaN</td>\n",
       "      <td>NaN</td>\n",
       "      <td>NaN</td>\n",
       "      <td>NaN</td>\n",
       "      <td>NaN</td>\n",
       "      <td>NaN</td>\n",
       "      <td>NaN</td>\n",
       "      <td>NaN</td>\n",
       "      <td>NaN</td>\n",
       "    </tr>\n",
       "  </tbody>\n",
       "</table>\n",
       "</div>"
      ],
      "text/plain": [
       "              xh   xm xb     csrq  csdm  jg  mzm  gjdqm  gatqwm  zzmmm  jkzkm  \\\n",
       "27697  201713030  贾*晴  女  1999-09   NaN NaN  NaN    NaN     NaN    NaN    NaN   \n",
       "28642  201762088   杜*  男  2000-02   NaN NaN  NaN    NaN     NaN    NaN    NaN   \n",
       "18272  201509062  宋*义  男  1997-03   NaN NaN  NaN    NaN     NaN    NaN    NaN   \n",
       "23135  201742069  苏*瑶  女  1999-08   NaN NaN  NaN    NaN     NaN    NaN    NaN   \n",
       "27871  201742098  邓*凌  男  2000-07   NaN NaN  NaN    NaN     NaN    NaN    NaN   \n",
       "\n",
       "       xyzjm  sflxs  sfdszn  \n",
       "27697    NaN    NaN     NaN  \n",
       "28642    NaN    NaN     NaN  \n",
       "18272    NaN    NaN     NaN  \n",
       "23135    NaN    NaN     NaN  \n",
       "27871    NaN    NaN     NaN  "
      ]
     },
     "execution_count": 10,
     "metadata": {},
     "output_type": "execute_result"
    }
   ],
   "source": [
    "student_mzm.sample(5)"
   ]
  },
  {
   "cell_type": "code",
   "execution_count": 11,
   "metadata": {
    "scrolled": true
   },
   "outputs": [],
   "source": [
    "df = df_student[df_student['mzm'].notnull()].drop_duplicates(subset=['mzm'],keep='first')"
   ]
  },
  {
   "cell_type": "markdown",
   "metadata": {},
   "source": [
    "*民族码根据相同年份入学的民族的中位数填补*"
   ]
  },
  {
   "cell_type": "code",
   "execution_count": 12,
   "metadata": {},
   "outputs": [
    {
     "data": {
      "text/plain": [
       "2519"
      ]
     },
     "execution_count": 12,
     "metadata": {},
     "output_type": "execute_result"
    }
   ],
   "source": [
    "student_zzmmm = df_student[df_student['zzmmm'].isnull()]\n",
    "df_student['zzmmm'].isnull().sum()"
   ]
  },
  {
   "cell_type": "code",
   "execution_count": 13,
   "metadata": {
    "scrolled": true
   },
   "outputs": [
    {
     "data": {
      "text/html": [
       "<div>\n",
       "<style scoped>\n",
       "    .dataframe tbody tr th:only-of-type {\n",
       "        vertical-align: middle;\n",
       "    }\n",
       "\n",
       "    .dataframe tbody tr th {\n",
       "        vertical-align: top;\n",
       "    }\n",
       "\n",
       "    .dataframe thead th {\n",
       "        text-align: right;\n",
       "    }\n",
       "</style>\n",
       "<table border=\"1\" class=\"dataframe\">\n",
       "  <thead>\n",
       "    <tr style=\"text-align: right;\">\n",
       "      <th></th>\n",
       "      <th>xh</th>\n",
       "      <th>xm</th>\n",
       "      <th>xb</th>\n",
       "      <th>csrq</th>\n",
       "      <th>csdm</th>\n",
       "      <th>jg</th>\n",
       "      <th>mzm</th>\n",
       "      <th>gjdqm</th>\n",
       "      <th>gatqwm</th>\n",
       "      <th>zzmmm</th>\n",
       "      <th>jkzkm</th>\n",
       "      <th>xyzjm</th>\n",
       "      <th>sflxs</th>\n",
       "      <th>sfdszn</th>\n",
       "    </tr>\n",
       "  </thead>\n",
       "  <tbody>\n",
       "    <tr>\n",
       "      <th>0</th>\n",
       "      <td>201519324</td>\n",
       "      <td>张*蔚</td>\n",
       "      <td>男</td>\n",
       "      <td>1997-05</td>\n",
       "      <td>NaN</td>\n",
       "      <td>NaN</td>\n",
       "      <td>11.0</td>\n",
       "      <td>NaN</td>\n",
       "      <td>NaN</td>\n",
       "      <td>3.0</td>\n",
       "      <td>NaN</td>\n",
       "      <td>NaN</td>\n",
       "      <td>NaN</td>\n",
       "      <td>NaN</td>\n",
       "    </tr>\n",
       "    <tr>\n",
       "      <th>18</th>\n",
       "      <td>201532448</td>\n",
       "      <td>李*峰</td>\n",
       "      <td>男</td>\n",
       "      <td>1997-01</td>\n",
       "      <td>NaN</td>\n",
       "      <td>NaN</td>\n",
       "      <td>1.0</td>\n",
       "      <td>NaN</td>\n",
       "      <td>NaN</td>\n",
       "      <td>13.0</td>\n",
       "      <td>NaN</td>\n",
       "      <td>NaN</td>\n",
       "      <td>NaN</td>\n",
       "      <td>NaN</td>\n",
       "    </tr>\n",
       "    <tr>\n",
       "      <th>368</th>\n",
       "      <td>201540050</td>\n",
       "      <td>冀*琦</td>\n",
       "      <td>男</td>\n",
       "      <td>1994-06</td>\n",
       "      <td>NaN</td>\n",
       "      <td>NaN</td>\n",
       "      <td>1.0</td>\n",
       "      <td>NaN</td>\n",
       "      <td>NaN</td>\n",
       "      <td>1.0</td>\n",
       "      <td>NaN</td>\n",
       "      <td>NaN</td>\n",
       "      <td>NaN</td>\n",
       "      <td>NaN</td>\n",
       "    </tr>\n",
       "    <tr>\n",
       "      <th>1121</th>\n",
       "      <td>201403002</td>\n",
       "      <td>吴*</td>\n",
       "      <td>女</td>\n",
       "      <td>1996-08</td>\n",
       "      <td>NaN</td>\n",
       "      <td>NaN</td>\n",
       "      <td>1.0</td>\n",
       "      <td>NaN</td>\n",
       "      <td>NaN</td>\n",
       "      <td>2.0</td>\n",
       "      <td>NaN</td>\n",
       "      <td>NaN</td>\n",
       "      <td>NaN</td>\n",
       "      <td>NaN</td>\n",
       "    </tr>\n",
       "  </tbody>\n",
       "</table>\n",
       "</div>"
      ],
      "text/plain": [
       "             xh   xm xb     csrq  csdm  jg   mzm  gjdqm  gatqwm  zzmmm  jkzkm  \\\n",
       "0     201519324  张*蔚  男  1997-05   NaN NaN  11.0    NaN     NaN    3.0    NaN   \n",
       "18    201532448  李*峰  男  1997-01   NaN NaN   1.0    NaN     NaN   13.0    NaN   \n",
       "368   201540050  冀*琦  男  1994-06   NaN NaN   1.0    NaN     NaN    1.0    NaN   \n",
       "1121  201403002   吴*  女  1996-08   NaN NaN   1.0    NaN     NaN    2.0    NaN   \n",
       "\n",
       "      xyzjm  sflxs  sfdszn  \n",
       "0       NaN    NaN     NaN  \n",
       "18      NaN    NaN     NaN  \n",
       "368     NaN    NaN     NaN  \n",
       "1121    NaN    NaN     NaN  "
      ]
     },
     "execution_count": 13,
     "metadata": {},
     "output_type": "execute_result"
    }
   ],
   "source": [
    "df_zzmmm = df_student[df_student['zzmmm'].notnull()].drop_duplicates(subset=['zzmmm'],keep='first')\n",
    "df_zzmmm"
   ]
  },
  {
   "cell_type": "markdown",
   "metadata": {},
   "source": [
    "*zzmmm按相同入学年份中位数进行填补*"
   ]
  },
  {
   "cell_type": "code",
   "execution_count": 14,
   "metadata": {
    "scrolled": true
   },
   "outputs": [
    {
     "data": {
      "text/html": [
       "<div>\n",
       "<style scoped>\n",
       "    .dataframe tbody tr th:only-of-type {\n",
       "        vertical-align: middle;\n",
       "    }\n",
       "\n",
       "    .dataframe tbody tr th {\n",
       "        vertical-align: top;\n",
       "    }\n",
       "\n",
       "    .dataframe thead th {\n",
       "        text-align: right;\n",
       "    }\n",
       "</style>\n",
       "<table border=\"1\" class=\"dataframe\">\n",
       "  <thead>\n",
       "    <tr style=\"text-align: right;\">\n",
       "      <th></th>\n",
       "      <th>xh</th>\n",
       "      <th>xm</th>\n",
       "      <th>xb</th>\n",
       "      <th>csrq</th>\n",
       "      <th>csdm</th>\n",
       "      <th>jg</th>\n",
       "      <th>mzm</th>\n",
       "      <th>gjdqm</th>\n",
       "      <th>gatqwm</th>\n",
       "      <th>zzmmm</th>\n",
       "      <th>jkzkm</th>\n",
       "      <th>xyzjm</th>\n",
       "      <th>sflxs</th>\n",
       "      <th>sfdszn</th>\n",
       "    </tr>\n",
       "  </thead>\n",
       "  <tbody>\n",
       "    <tr>\n",
       "      <th>17587</th>\n",
       "      <td>201420109</td>\n",
       "      <td>刘*奕</td>\n",
       "      <td>女</td>\n",
       "      <td>1996-12</td>\n",
       "      <td>NaN</td>\n",
       "      <td>NaN</td>\n",
       "      <td>1.0</td>\n",
       "      <td>NaN</td>\n",
       "      <td>NaN</td>\n",
       "      <td>3.0</td>\n",
       "      <td>NaN</td>\n",
       "      <td>NaN</td>\n",
       "      <td>NaN</td>\n",
       "      <td>NaN</td>\n",
       "    </tr>\n",
       "    <tr>\n",
       "      <th>6828</th>\n",
       "      <td>201569036</td>\n",
       "      <td>管*博</td>\n",
       "      <td>男</td>\n",
       "      <td>1995-11</td>\n",
       "      <td>NaN</td>\n",
       "      <td>NaN</td>\n",
       "      <td>1.0</td>\n",
       "      <td>NaN</td>\n",
       "      <td>NaN</td>\n",
       "      <td>3.0</td>\n",
       "      <td>NaN</td>\n",
       "      <td>NaN</td>\n",
       "      <td>NaN</td>\n",
       "      <td>NaN</td>\n",
       "    </tr>\n",
       "    <tr>\n",
       "      <th>31910</th>\n",
       "      <td>201449421</td>\n",
       "      <td>邱*</td>\n",
       "      <td>男</td>\n",
       "      <td>1996-09</td>\n",
       "      <td>NaN</td>\n",
       "      <td>NaN</td>\n",
       "      <td>1.0</td>\n",
       "      <td>NaN</td>\n",
       "      <td>NaN</td>\n",
       "      <td>3.0</td>\n",
       "      <td>NaN</td>\n",
       "      <td>NaN</td>\n",
       "      <td>NaN</td>\n",
       "      <td>NaN</td>\n",
       "    </tr>\n",
       "    <tr>\n",
       "      <th>12283</th>\n",
       "      <td>201820033</td>\n",
       "      <td>张*阳</td>\n",
       "      <td>女</td>\n",
       "      <td>2000-08</td>\n",
       "      <td>NaN</td>\n",
       "      <td>NaN</td>\n",
       "      <td>1.0</td>\n",
       "      <td>NaN</td>\n",
       "      <td>NaN</td>\n",
       "      <td>3.0</td>\n",
       "      <td>NaN</td>\n",
       "      <td>NaN</td>\n",
       "      <td>NaN</td>\n",
       "      <td>NaN</td>\n",
       "    </tr>\n",
       "    <tr>\n",
       "      <th>12032</th>\n",
       "      <td>201514140</td>\n",
       "      <td>张*强</td>\n",
       "      <td>男</td>\n",
       "      <td>1998-04</td>\n",
       "      <td>NaN</td>\n",
       "      <td>NaN</td>\n",
       "      <td>1.0</td>\n",
       "      <td>NaN</td>\n",
       "      <td>NaN</td>\n",
       "      <td>13.0</td>\n",
       "      <td>NaN</td>\n",
       "      <td>NaN</td>\n",
       "      <td>NaN</td>\n",
       "      <td>NaN</td>\n",
       "    </tr>\n",
       "  </tbody>\n",
       "</table>\n",
       "</div>"
      ],
      "text/plain": [
       "              xh   xm xb     csrq  csdm  jg  mzm  gjdqm  gatqwm  zzmmm  jkzkm  \\\n",
       "17587  201420109  刘*奕  女  1996-12   NaN NaN  1.0    NaN     NaN    3.0    NaN   \n",
       "6828   201569036  管*博  男  1995-11   NaN NaN  1.0    NaN     NaN    3.0    NaN   \n",
       "31910  201449421   邱*  男  1996-09   NaN NaN  1.0    NaN     NaN    3.0    NaN   \n",
       "12283  201820033  张*阳  女  2000-08   NaN NaN  1.0    NaN     NaN    3.0    NaN   \n",
       "12032  201514140  张*强  男  1998-04   NaN NaN  1.0    NaN     NaN   13.0    NaN   \n",
       "\n",
       "       xyzjm  sflxs  sfdszn  \n",
       "17587    NaN    NaN     NaN  \n",
       "6828     NaN    NaN     NaN  \n",
       "31910    NaN    NaN     NaN  \n",
       "12283    NaN    NaN     NaN  \n",
       "12032    NaN    NaN     NaN  "
      ]
     },
     "execution_count": 14,
     "metadata": {},
     "output_type": "execute_result"
    }
   ],
   "source": [
    "df_student.sample(5)"
   ]
  },
  {
   "cell_type": "code",
   "execution_count": 15,
   "metadata": {
    "scrolled": false
   },
   "outputs": [
    {
     "data": {
      "text/html": [
       "<div>\n",
       "<style scoped>\n",
       "    .dataframe tbody tr th:only-of-type {\n",
       "        vertical-align: middle;\n",
       "    }\n",
       "\n",
       "    .dataframe tbody tr th {\n",
       "        vertical-align: top;\n",
       "    }\n",
       "\n",
       "    .dataframe thead th {\n",
       "        text-align: right;\n",
       "    }\n",
       "</style>\n",
       "<table border=\"1\" class=\"dataframe\">\n",
       "  <thead>\n",
       "    <tr style=\"text-align: right;\">\n",
       "      <th></th>\n",
       "      <th>xh</th>\n",
       "      <th>csdm</th>\n",
       "      <th>jg</th>\n",
       "      <th>mzm</th>\n",
       "      <th>gjdqm</th>\n",
       "      <th>gatqwm</th>\n",
       "      <th>zzmmm</th>\n",
       "      <th>jkzkm</th>\n",
       "      <th>xyzjm</th>\n",
       "      <th>sflxs</th>\n",
       "      <th>sfdszn</th>\n",
       "    </tr>\n",
       "  </thead>\n",
       "  <tbody>\n",
       "    <tr>\n",
       "      <th>count</th>\n",
       "      <td>3.248000e+04</td>\n",
       "      <td>6.000000</td>\n",
       "      <td>0.0</td>\n",
       "      <td>30510.000000</td>\n",
       "      <td>9.0</td>\n",
       "      <td>5.0</td>\n",
       "      <td>29961.000000</td>\n",
       "      <td>8.0</td>\n",
       "      <td>6.0</td>\n",
       "      <td>8.0</td>\n",
       "      <td>9.000000</td>\n",
       "    </tr>\n",
       "    <tr>\n",
       "      <th>mean</th>\n",
       "      <td>2.016610e+08</td>\n",
       "      <td>367343.500000</td>\n",
       "      <td>NaN</td>\n",
       "      <td>2.085841</td>\n",
       "      <td>156.0</td>\n",
       "      <td>0.0</td>\n",
       "      <td>3.270418</td>\n",
       "      <td>1.0</td>\n",
       "      <td>0.0</td>\n",
       "      <td>0.0</td>\n",
       "      <td>0.666667</td>\n",
       "    </tr>\n",
       "    <tr>\n",
       "      <th>std</th>\n",
       "      <td>4.432228e+06</td>\n",
       "      <td>199292.481756</td>\n",
       "      <td>NaN</td>\n",
       "      <td>3.922360</td>\n",
       "      <td>0.0</td>\n",
       "      <td>0.0</td>\n",
       "      <td>1.629963</td>\n",
       "      <td>0.0</td>\n",
       "      <td>0.0</td>\n",
       "      <td>0.0</td>\n",
       "      <td>0.500000</td>\n",
       "    </tr>\n",
       "    <tr>\n",
       "      <th>min</th>\n",
       "      <td>2.014000e+08</td>\n",
       "      <td>150400.000000</td>\n",
       "      <td>NaN</td>\n",
       "      <td>1.000000</td>\n",
       "      <td>156.0</td>\n",
       "      <td>0.0</td>\n",
       "      <td>1.000000</td>\n",
       "      <td>1.0</td>\n",
       "      <td>0.0</td>\n",
       "      <td>0.0</td>\n",
       "      <td>0.000000</td>\n",
       "    </tr>\n",
       "    <tr>\n",
       "      <th>25%</th>\n",
       "      <td>2.015150e+08</td>\n",
       "      <td>210720.500000</td>\n",
       "      <td>NaN</td>\n",
       "      <td>1.000000</td>\n",
       "      <td>156.0</td>\n",
       "      <td>0.0</td>\n",
       "      <td>3.000000</td>\n",
       "      <td>1.0</td>\n",
       "      <td>0.0</td>\n",
       "      <td>0.0</td>\n",
       "      <td>0.000000</td>\n",
       "    </tr>\n",
       "    <tr>\n",
       "      <th>50%</th>\n",
       "      <td>2.016321e+08</td>\n",
       "      <td>355509.500000</td>\n",
       "      <td>NaN</td>\n",
       "      <td>1.000000</td>\n",
       "      <td>156.0</td>\n",
       "      <td>0.0</td>\n",
       "      <td>3.000000</td>\n",
       "      <td>1.0</td>\n",
       "      <td>0.0</td>\n",
       "      <td>0.0</td>\n",
       "      <td>1.000000</td>\n",
       "    </tr>\n",
       "    <tr>\n",
       "      <th>75%</th>\n",
       "      <td>2.017541e+08</td>\n",
       "      <td>508775.000000</td>\n",
       "      <td>NaN</td>\n",
       "      <td>1.000000</td>\n",
       "      <td>156.0</td>\n",
       "      <td>0.0</td>\n",
       "      <td>3.000000</td>\n",
       "      <td>1.0</td>\n",
       "      <td>0.0</td>\n",
       "      <td>0.0</td>\n",
       "      <td>1.000000</td>\n",
       "    </tr>\n",
       "    <tr>\n",
       "      <th>max</th>\n",
       "      <td>1.000000e+09</td>\n",
       "      <td>620321.000000</td>\n",
       "      <td>NaN</td>\n",
       "      <td>60.000000</td>\n",
       "      <td>156.0</td>\n",
       "      <td>0.0</td>\n",
       "      <td>13.000000</td>\n",
       "      <td>1.0</td>\n",
       "      <td>0.0</td>\n",
       "      <td>0.0</td>\n",
       "      <td>1.000000</td>\n",
       "    </tr>\n",
       "  </tbody>\n",
       "</table>\n",
       "</div>"
      ],
      "text/plain": [
       "                 xh           csdm   jg           mzm  gjdqm  gatqwm  \\\n",
       "count  3.248000e+04       6.000000  0.0  30510.000000    9.0     5.0   \n",
       "mean   2.016610e+08  367343.500000  NaN      2.085841  156.0     0.0   \n",
       "std    4.432228e+06  199292.481756  NaN      3.922360    0.0     0.0   \n",
       "min    2.014000e+08  150400.000000  NaN      1.000000  156.0     0.0   \n",
       "25%    2.015150e+08  210720.500000  NaN      1.000000  156.0     0.0   \n",
       "50%    2.016321e+08  355509.500000  NaN      1.000000  156.0     0.0   \n",
       "75%    2.017541e+08  508775.000000  NaN      1.000000  156.0     0.0   \n",
       "max    1.000000e+09  620321.000000  NaN     60.000000  156.0     0.0   \n",
       "\n",
       "              zzmmm  jkzkm  xyzjm  sflxs    sfdszn  \n",
       "count  29961.000000    8.0    6.0    8.0  9.000000  \n",
       "mean       3.270418    1.0    0.0    0.0  0.666667  \n",
       "std        1.629963    0.0    0.0    0.0  0.500000  \n",
       "min        1.000000    1.0    0.0    0.0  0.000000  \n",
       "25%        3.000000    1.0    0.0    0.0  0.000000  \n",
       "50%        3.000000    1.0    0.0    0.0  1.000000  \n",
       "75%        3.000000    1.0    0.0    0.0  1.000000  \n",
       "max       13.000000    1.0    0.0    0.0  1.000000  "
      ]
     },
     "execution_count": 15,
     "metadata": {},
     "output_type": "execute_result"
    }
   ],
   "source": [
    "df_student.describe()"
   ]
  },
  {
   "cell_type": "markdown",
   "metadata": {},
   "source": [
    "# 2. 数据清洗"
   ]
  },
  {
   "cell_type": "markdown",
   "metadata": {},
   "source": [
    "## 2.1 学生信息"
   ]
  },
  {
   "cell_type": "markdown",
   "metadata": {},
   "source": [
    "### 2.1.1 删除学生信息严重缺失的属性"
   ]
  },
  {
   "cell_type": "code",
   "execution_count": 20,
   "metadata": {},
   "outputs": [
    {
     "data": {
      "text/html": [
       "<div>\n",
       "<style scoped>\n",
       "    .dataframe tbody tr th:only-of-type {\n",
       "        vertical-align: middle;\n",
       "    }\n",
       "\n",
       "    .dataframe tbody tr th {\n",
       "        vertical-align: top;\n",
       "    }\n",
       "\n",
       "    .dataframe thead th {\n",
       "        text-align: right;\n",
       "    }\n",
       "</style>\n",
       "<table border=\"1\" class=\"dataframe\">\n",
       "  <thead>\n",
       "    <tr style=\"text-align: right;\">\n",
       "      <th></th>\n",
       "      <th>xh</th>\n",
       "      <th>xm</th>\n",
       "      <th>xb</th>\n",
       "      <th>csrq</th>\n",
       "      <th>csdm</th>\n",
       "      <th>jg</th>\n",
       "      <th>mzm</th>\n",
       "      <th>gjdqm</th>\n",
       "      <th>gatqwm</th>\n",
       "      <th>zzmmm</th>\n",
       "      <th>jkzkm</th>\n",
       "      <th>xyzjm</th>\n",
       "      <th>sflxs</th>\n",
       "      <th>sfdszn</th>\n",
       "    </tr>\n",
       "  </thead>\n",
       "  <tbody>\n",
       "    <tr>\n",
       "      <th>23297</th>\n",
       "      <td>201712088</td>\n",
       "      <td>赵*奇</td>\n",
       "      <td>男</td>\n",
       "      <td>1999-05</td>\n",
       "      <td>NaN</td>\n",
       "      <td>NaN</td>\n",
       "      <td>NaN</td>\n",
       "      <td>NaN</td>\n",
       "      <td>NaN</td>\n",
       "      <td>NaN</td>\n",
       "      <td>NaN</td>\n",
       "      <td>NaN</td>\n",
       "      <td>NaN</td>\n",
       "      <td>NaN</td>\n",
       "    </tr>\n",
       "    <tr>\n",
       "      <th>16920</th>\n",
       "      <td>201709325</td>\n",
       "      <td>孙*宇</td>\n",
       "      <td>男</td>\n",
       "      <td>1999-09</td>\n",
       "      <td>NaN</td>\n",
       "      <td>NaN</td>\n",
       "      <td>1.0</td>\n",
       "      <td>NaN</td>\n",
       "      <td>NaN</td>\n",
       "      <td>3.0</td>\n",
       "      <td>NaN</td>\n",
       "      <td>NaN</td>\n",
       "      <td>NaN</td>\n",
       "      <td>NaN</td>\n",
       "    </tr>\n",
       "    <tr>\n",
       "      <th>15931</th>\n",
       "      <td>201797016</td>\n",
       "      <td>于*康</td>\n",
       "      <td>男</td>\n",
       "      <td>1999-06</td>\n",
       "      <td>NaN</td>\n",
       "      <td>NaN</td>\n",
       "      <td>11.0</td>\n",
       "      <td>NaN</td>\n",
       "      <td>NaN</td>\n",
       "      <td>3.0</td>\n",
       "      <td>NaN</td>\n",
       "      <td>NaN</td>\n",
       "      <td>NaN</td>\n",
       "      <td>NaN</td>\n",
       "    </tr>\n",
       "    <tr>\n",
       "      <th>18583</th>\n",
       "      <td>201778050</td>\n",
       "      <td>刘*鑫</td>\n",
       "      <td>男</td>\n",
       "      <td>1999-11</td>\n",
       "      <td>NaN</td>\n",
       "      <td>NaN</td>\n",
       "      <td>1.0</td>\n",
       "      <td>NaN</td>\n",
       "      <td>NaN</td>\n",
       "      <td>3.0</td>\n",
       "      <td>NaN</td>\n",
       "      <td>NaN</td>\n",
       "      <td>NaN</td>\n",
       "      <td>NaN</td>\n",
       "    </tr>\n",
       "    <tr>\n",
       "      <th>378</th>\n",
       "      <td>201592042</td>\n",
       "      <td>朱*峰</td>\n",
       "      <td>男</td>\n",
       "      <td>1997-07</td>\n",
       "      <td>NaN</td>\n",
       "      <td>NaN</td>\n",
       "      <td>1.0</td>\n",
       "      <td>NaN</td>\n",
       "      <td>NaN</td>\n",
       "      <td>3.0</td>\n",
       "      <td>NaN</td>\n",
       "      <td>NaN</td>\n",
       "      <td>NaN</td>\n",
       "      <td>NaN</td>\n",
       "    </tr>\n",
       "  </tbody>\n",
       "</table>\n",
       "</div>"
      ],
      "text/plain": [
       "              xh   xm xb     csrq  csdm  jg   mzm  gjdqm  gatqwm  zzmmm  \\\n",
       "23297  201712088  赵*奇  男  1999-05   NaN NaN   NaN    NaN     NaN    NaN   \n",
       "16920  201709325  孙*宇  男  1999-09   NaN NaN   1.0    NaN     NaN    3.0   \n",
       "15931  201797016  于*康  男  1999-06   NaN NaN  11.0    NaN     NaN    3.0   \n",
       "18583  201778050  刘*鑫  男  1999-11   NaN NaN   1.0    NaN     NaN    3.0   \n",
       "378    201592042  朱*峰  男  1997-07   NaN NaN   1.0    NaN     NaN    3.0   \n",
       "\n",
       "       jkzkm  xyzjm  sflxs  sfdszn  \n",
       "23297    NaN    NaN    NaN     NaN  \n",
       "16920    NaN    NaN    NaN     NaN  \n",
       "15931    NaN    NaN    NaN     NaN  \n",
       "18583    NaN    NaN    NaN     NaN  \n",
       "378      NaN    NaN    NaN     NaN  "
      ]
     },
     "execution_count": 20,
     "metadata": {},
     "output_type": "execute_result"
    }
   ],
   "source": [
    "df_student.sample(5)"
   ]
  },
  {
   "cell_type": "code",
   "execution_count": 21,
   "metadata": {},
   "outputs": [
    {
     "data": {
      "text/html": [
       "<div>\n",
       "<style scoped>\n",
       "    .dataframe tbody tr th:only-of-type {\n",
       "        vertical-align: middle;\n",
       "    }\n",
       "\n",
       "    .dataframe tbody tr th {\n",
       "        vertical-align: top;\n",
       "    }\n",
       "\n",
       "    .dataframe thead th {\n",
       "        text-align: right;\n",
       "    }\n",
       "</style>\n",
       "<table border=\"1\" class=\"dataframe\">\n",
       "  <thead>\n",
       "    <tr style=\"text-align: right;\">\n",
       "      <th></th>\n",
       "      <th>xh</th>\n",
       "      <th>xm</th>\n",
       "      <th>xb</th>\n",
       "      <th>csrq</th>\n",
       "      <th>mzm</th>\n",
       "      <th>zzmmm</th>\n",
       "    </tr>\n",
       "  </thead>\n",
       "  <tbody>\n",
       "    <tr>\n",
       "      <th>0</th>\n",
       "      <td>201519324</td>\n",
       "      <td>张*蔚</td>\n",
       "      <td>男</td>\n",
       "      <td>1997-05</td>\n",
       "      <td>11.0</td>\n",
       "      <td>3.0</td>\n",
       "    </tr>\n",
       "    <tr>\n",
       "      <th>1</th>\n",
       "      <td>201507048</td>\n",
       "      <td>徐*</td>\n",
       "      <td>女</td>\n",
       "      <td>1999-09</td>\n",
       "      <td>1.0</td>\n",
       "      <td>3.0</td>\n",
       "    </tr>\n",
       "    <tr>\n",
       "      <th>2</th>\n",
       "      <td>201587017</td>\n",
       "      <td>张*农</td>\n",
       "      <td>男</td>\n",
       "      <td>1997-06</td>\n",
       "      <td>1.0</td>\n",
       "      <td>3.0</td>\n",
       "    </tr>\n",
       "    <tr>\n",
       "      <th>3</th>\n",
       "      <td>201588010</td>\n",
       "      <td>李*</td>\n",
       "      <td>女</td>\n",
       "      <td>1997-08</td>\n",
       "      <td>1.0</td>\n",
       "      <td>3.0</td>\n",
       "    </tr>\n",
       "    <tr>\n",
       "      <th>4</th>\n",
       "      <td>201508021</td>\n",
       "      <td>董*翔</td>\n",
       "      <td>男</td>\n",
       "      <td>1997-08</td>\n",
       "      <td>1.0</td>\n",
       "      <td>3.0</td>\n",
       "    </tr>\n",
       "  </tbody>\n",
       "</table>\n",
       "</div>"
      ],
      "text/plain": [
       "          xh   xm xb     csrq   mzm  zzmmm\n",
       "0  201519324  张*蔚  男  1997-05  11.0    3.0\n",
       "1  201507048   徐*  女  1999-09   1.0    3.0\n",
       "2  201587017  张*农  男  1997-06   1.0    3.0\n",
       "3  201588010   李*  女  1997-08   1.0    3.0\n",
       "4  201508021  董*翔  男  1997-08   1.0    3.0"
      ]
     },
     "execution_count": 21,
     "metadata": {},
     "output_type": "execute_result"
    }
   ],
   "source": [
    "df_student.dropna(axis=1, thresh=10,inplace=True)\n",
    "df_student.head(5)"
   ]
  },
  {
   "cell_type": "markdown",
   "metadata": {},
   "source": [
    "### 2.1.2 将出生日期转换成年龄"
   ]
  },
  {
   "cell_type": "code",
   "execution_count": 22,
   "metadata": {},
   "outputs": [
    {
     "data": {
      "text/plain": [
       "2019"
      ]
     },
     "execution_count": 22,
     "metadata": {},
     "output_type": "execute_result"
    }
   ],
   "source": [
    "import datetime as dt\n",
    "now_year = dt.datetime.today().year\n",
    "now_year"
   ]
  },
  {
   "cell_type": "code",
   "execution_count": 23,
   "metadata": {},
   "outputs": [
    {
     "data": {
      "text/plain": [
       "5"
      ]
     },
     "execution_count": 23,
     "metadata": {},
     "output_type": "execute_result"
    }
   ],
   "source": [
    "now_month = dt.datetime.today().month\n",
    "now_month"
   ]
  },
  {
   "cell_type": "code",
   "execution_count": 24,
   "metadata": {},
   "outputs": [
    {
     "data": {
      "text/html": [
       "<div>\n",
       "<style scoped>\n",
       "    .dataframe tbody tr th:only-of-type {\n",
       "        vertical-align: middle;\n",
       "    }\n",
       "\n",
       "    .dataframe tbody tr th {\n",
       "        vertical-align: top;\n",
       "    }\n",
       "\n",
       "    .dataframe thead th {\n",
       "        text-align: right;\n",
       "    }\n",
       "</style>\n",
       "<table border=\"1\" class=\"dataframe\">\n",
       "  <thead>\n",
       "    <tr style=\"text-align: right;\">\n",
       "      <th></th>\n",
       "      <th>xh</th>\n",
       "      <th>xm</th>\n",
       "      <th>xb</th>\n",
       "      <th>csrq</th>\n",
       "      <th>mzm</th>\n",
       "      <th>zzmmm</th>\n",
       "    </tr>\n",
       "  </thead>\n",
       "  <tbody>\n",
       "    <tr>\n",
       "      <th>0</th>\n",
       "      <td>201519324</td>\n",
       "      <td>张*蔚</td>\n",
       "      <td>男</td>\n",
       "      <td>1997-05-01</td>\n",
       "      <td>11.0</td>\n",
       "      <td>3.0</td>\n",
       "    </tr>\n",
       "    <tr>\n",
       "      <th>1</th>\n",
       "      <td>201507048</td>\n",
       "      <td>徐*</td>\n",
       "      <td>女</td>\n",
       "      <td>1999-09-01</td>\n",
       "      <td>1.0</td>\n",
       "      <td>3.0</td>\n",
       "    </tr>\n",
       "    <tr>\n",
       "      <th>2</th>\n",
       "      <td>201587017</td>\n",
       "      <td>张*农</td>\n",
       "      <td>男</td>\n",
       "      <td>1997-06-01</td>\n",
       "      <td>1.0</td>\n",
       "      <td>3.0</td>\n",
       "    </tr>\n",
       "    <tr>\n",
       "      <th>3</th>\n",
       "      <td>201588010</td>\n",
       "      <td>李*</td>\n",
       "      <td>女</td>\n",
       "      <td>1997-08-01</td>\n",
       "      <td>1.0</td>\n",
       "      <td>3.0</td>\n",
       "    </tr>\n",
       "    <tr>\n",
       "      <th>4</th>\n",
       "      <td>201508021</td>\n",
       "      <td>董*翔</td>\n",
       "      <td>男</td>\n",
       "      <td>1997-08-01</td>\n",
       "      <td>1.0</td>\n",
       "      <td>3.0</td>\n",
       "    </tr>\n",
       "  </tbody>\n",
       "</table>\n",
       "</div>"
      ],
      "text/plain": [
       "          xh   xm xb       csrq   mzm  zzmmm\n",
       "0  201519324  张*蔚  男 1997-05-01  11.0    3.0\n",
       "1  201507048   徐*  女 1999-09-01   1.0    3.0\n",
       "2  201587017  张*农  男 1997-06-01   1.0    3.0\n",
       "3  201588010   李*  女 1997-08-01   1.0    3.0\n",
       "4  201508021  董*翔  男 1997-08-01   1.0    3.0"
      ]
     },
     "execution_count": 24,
     "metadata": {},
     "output_type": "execute_result"
    }
   ],
   "source": [
    "df_student['csrq'] = pd.to_datetime(df_student['csrq'])\n",
    "df_student.head(5)"
   ]
  },
  {
   "cell_type": "code",
   "execution_count": 25,
   "metadata": {
    "scrolled": true
   },
   "outputs": [
    {
     "data": {
      "text/html": [
       "<div>\n",
       "<style scoped>\n",
       "    .dataframe tbody tr th:only-of-type {\n",
       "        vertical-align: middle;\n",
       "    }\n",
       "\n",
       "    .dataframe tbody tr th {\n",
       "        vertical-align: top;\n",
       "    }\n",
       "\n",
       "    .dataframe thead th {\n",
       "        text-align: right;\n",
       "    }\n",
       "</style>\n",
       "<table border=\"1\" class=\"dataframe\">\n",
       "  <thead>\n",
       "    <tr style=\"text-align: right;\">\n",
       "      <th></th>\n",
       "      <th>xh</th>\n",
       "      <th>xm</th>\n",
       "      <th>xb</th>\n",
       "      <th>csrq</th>\n",
       "      <th>mzm</th>\n",
       "      <th>zzmmm</th>\n",
       "      <th>age</th>\n",
       "    </tr>\n",
       "  </thead>\n",
       "  <tbody>\n",
       "    <tr>\n",
       "      <th>0</th>\n",
       "      <td>201519324</td>\n",
       "      <td>张*蔚</td>\n",
       "      <td>男</td>\n",
       "      <td>1997-05-01</td>\n",
       "      <td>11.0</td>\n",
       "      <td>3.0</td>\n",
       "      <td>22.0</td>\n",
       "    </tr>\n",
       "    <tr>\n",
       "      <th>1</th>\n",
       "      <td>201507048</td>\n",
       "      <td>徐*</td>\n",
       "      <td>女</td>\n",
       "      <td>1999-09-01</td>\n",
       "      <td>1.0</td>\n",
       "      <td>3.0</td>\n",
       "      <td>20.0</td>\n",
       "    </tr>\n",
       "    <tr>\n",
       "      <th>2</th>\n",
       "      <td>201587017</td>\n",
       "      <td>张*农</td>\n",
       "      <td>男</td>\n",
       "      <td>1997-06-01</td>\n",
       "      <td>1.0</td>\n",
       "      <td>3.0</td>\n",
       "      <td>22.0</td>\n",
       "    </tr>\n",
       "    <tr>\n",
       "      <th>3</th>\n",
       "      <td>201588010</td>\n",
       "      <td>李*</td>\n",
       "      <td>女</td>\n",
       "      <td>1997-08-01</td>\n",
       "      <td>1.0</td>\n",
       "      <td>3.0</td>\n",
       "      <td>22.0</td>\n",
       "    </tr>\n",
       "    <tr>\n",
       "      <th>4</th>\n",
       "      <td>201508021</td>\n",
       "      <td>董*翔</td>\n",
       "      <td>男</td>\n",
       "      <td>1997-08-01</td>\n",
       "      <td>1.0</td>\n",
       "      <td>3.0</td>\n",
       "      <td>22.0</td>\n",
       "    </tr>\n",
       "  </tbody>\n",
       "</table>\n",
       "</div>"
      ],
      "text/plain": [
       "          xh   xm xb       csrq   mzm  zzmmm   age\n",
       "0  201519324  张*蔚  男 1997-05-01  11.0    3.0  22.0\n",
       "1  201507048   徐*  女 1999-09-01   1.0    3.0  20.0\n",
       "2  201587017  张*农  男 1997-06-01   1.0    3.0  22.0\n",
       "3  201588010   李*  女 1997-08-01   1.0    3.0  22.0\n",
       "4  201508021  董*翔  男 1997-08-01   1.0    3.0  22.0"
      ]
     },
     "execution_count": 25,
     "metadata": {},
     "output_type": "execute_result"
    }
   ],
   "source": [
    "df_student['age'] = now_year - df_student.csrq.dt.year\n",
    "df_student.head(5)"
   ]
  },
  {
   "cell_type": "code",
   "execution_count": 26,
   "metadata": {
    "scrolled": true
   },
   "outputs": [],
   "source": [
    "df_student.drop(columns='csrq',inplace=True)"
   ]
  },
  {
   "cell_type": "code",
   "execution_count": 27,
   "metadata": {
    "scrolled": true
   },
   "outputs": [
    {
     "data": {
      "text/html": [
       "<div>\n",
       "<style scoped>\n",
       "    .dataframe tbody tr th:only-of-type {\n",
       "        vertical-align: middle;\n",
       "    }\n",
       "\n",
       "    .dataframe tbody tr th {\n",
       "        vertical-align: top;\n",
       "    }\n",
       "\n",
       "    .dataframe thead th {\n",
       "        text-align: right;\n",
       "    }\n",
       "</style>\n",
       "<table border=\"1\" class=\"dataframe\">\n",
       "  <thead>\n",
       "    <tr style=\"text-align: right;\">\n",
       "      <th></th>\n",
       "      <th>xh</th>\n",
       "      <th>xm</th>\n",
       "      <th>xb</th>\n",
       "      <th>mzm</th>\n",
       "      <th>zzmmm</th>\n",
       "      <th>age</th>\n",
       "    </tr>\n",
       "  </thead>\n",
       "  <tbody>\n",
       "    <tr>\n",
       "      <th>20901</th>\n",
       "      <td>201629052</td>\n",
       "      <td>张*博</td>\n",
       "      <td>男</td>\n",
       "      <td>1.0</td>\n",
       "      <td>3.0</td>\n",
       "      <td>22.0</td>\n",
       "    </tr>\n",
       "    <tr>\n",
       "      <th>29480</th>\n",
       "      <td>201729141</td>\n",
       "      <td>王*蕾</td>\n",
       "      <td>女</td>\n",
       "      <td>1.0</td>\n",
       "      <td>3.0</td>\n",
       "      <td>21.0</td>\n",
       "    </tr>\n",
       "    <tr>\n",
       "      <th>5083</th>\n",
       "      <td>201596043</td>\n",
       "      <td>郭*</td>\n",
       "      <td>男</td>\n",
       "      <td>1.0</td>\n",
       "      <td>3.0</td>\n",
       "      <td>22.0</td>\n",
       "    </tr>\n",
       "    <tr>\n",
       "      <th>1289</th>\n",
       "      <td>201559321</td>\n",
       "      <td>杨*鸣</td>\n",
       "      <td>女</td>\n",
       "      <td>1.0</td>\n",
       "      <td>3.0</td>\n",
       "      <td>22.0</td>\n",
       "    </tr>\n",
       "    <tr>\n",
       "      <th>24292</th>\n",
       "      <td>201749049</td>\n",
       "      <td>杨*君</td>\n",
       "      <td>女</td>\n",
       "      <td>1.0</td>\n",
       "      <td>3.0</td>\n",
       "      <td>19.0</td>\n",
       "    </tr>\n",
       "  </tbody>\n",
       "</table>\n",
       "</div>"
      ],
      "text/plain": [
       "              xh   xm xb  mzm  zzmmm   age\n",
       "20901  201629052  张*博  男  1.0    3.0  22.0\n",
       "29480  201729141  王*蕾  女  1.0    3.0  21.0\n",
       "5083   201596043   郭*  男  1.0    3.0  22.0\n",
       "1289   201559321  杨*鸣  女  1.0    3.0  22.0\n",
       "24292  201749049  杨*君  女  1.0    3.0  19.0"
      ]
     },
     "execution_count": 27,
     "metadata": {},
     "output_type": "execute_result"
    }
   ],
   "source": [
    "df_student.sample(5)"
   ]
  },
  {
   "cell_type": "code",
   "execution_count": 28,
   "metadata": {
    "scrolled": true
   },
   "outputs": [
    {
     "data": {
      "text/plain": [
       "xh          0\n",
       "xm          0\n",
       "xb          0\n",
       "mzm      1970\n",
       "zzmmm    2519\n",
       "age       494\n",
       "dtype: int64"
      ]
     },
     "execution_count": 28,
     "metadata": {},
     "output_type": "execute_result"
    }
   ],
   "source": [
    "df_student.isnull().sum()"
   ]
  },
  {
   "cell_type": "markdown",
   "metadata": {},
   "source": [
    "### 2.1.3 用相同入学年份的同学年龄、民族码、政治面貌码的中位数填补缺失数据"
   ]
  },
  {
   "cell_type": "code",
   "execution_count": 29,
   "metadata": {
    "scrolled": true
   },
   "outputs": [
    {
     "data": {
      "text/plain": [
       "xh         0\n",
       "xm         0\n",
       "xb         0\n",
       "mzm       98\n",
       "zzmmm    354\n",
       "age      112\n",
       "dtype: int64"
      ]
     },
     "execution_count": 29,
     "metadata": {},
     "output_type": "execute_result"
    }
   ],
   "source": [
    "student_2014 = df_student.loc[df_student['xh'].isin(range(201400000,201500000))]\n",
    "student_2014.describe()\n",
    "student_2014.isnull().sum()"
   ]
  },
  {
   "cell_type": "code",
   "execution_count": 30,
   "metadata": {},
   "outputs": [
    {
     "data": {
      "text/plain": [
       "xh         0\n",
       "xm         0\n",
       "xb         0\n",
       "mzm      158\n",
       "zzmmm    417\n",
       "age      136\n",
       "dtype: int64"
      ]
     },
     "execution_count": 30,
     "metadata": {},
     "output_type": "execute_result"
    }
   ],
   "source": [
    "student_2015 = df_student.loc[df_student['xh'].isin(range(201500000,201600000))]\n",
    "student_2015.describe()\n",
    "student_2015.isnull().sum()"
   ]
  },
  {
   "cell_type": "code",
   "execution_count": 31,
   "metadata": {
    "scrolled": true
   },
   "outputs": [
    {
     "data": {
      "text/plain": [
       "xh         0\n",
       "xm         0\n",
       "xb         0\n",
       "mzm      174\n",
       "zzmmm    207\n",
       "age      115\n",
       "dtype: int64"
      ]
     },
     "execution_count": 31,
     "metadata": {},
     "output_type": "execute_result"
    }
   ],
   "source": [
    "student_2016 = df_student.loc[df_student['xh'].isin(range(201600000,201700000))]\n",
    "student_2016.describe()\n",
    "student_2016.isnull().sum()"
   ]
  },
  {
   "cell_type": "code",
   "execution_count": 32,
   "metadata": {
    "scrolled": true
   },
   "outputs": [
    {
     "data": {
      "text/plain": [
       "xh          0\n",
       "xm          0\n",
       "xb          0\n",
       "mzm      1445\n",
       "zzmmm    1454\n",
       "age        93\n",
       "dtype: int64"
      ]
     },
     "execution_count": 32,
     "metadata": {},
     "output_type": "execute_result"
    }
   ],
   "source": [
    "student_2017 = df_student.loc[df_student['xh'].isin(range(201700000,201800000))]\n",
    "student_2017.describe()\n",
    "student_2017.isnull().sum()"
   ]
  },
  {
   "cell_type": "code",
   "execution_count": 33,
   "metadata": {
    "scrolled": true
   },
   "outputs": [
    {
     "data": {
      "text/plain": [
       "xh        0\n",
       "xm        0\n",
       "xb        0\n",
       "mzm      94\n",
       "zzmmm    86\n",
       "age      37\n",
       "dtype: int64"
      ]
     },
     "execution_count": 33,
     "metadata": {},
     "output_type": "execute_result"
    }
   ],
   "source": [
    "student_2018 = df_student.loc[df_student['xh'].isin(range(201800000,201900000))]\n",
    "student_2018.describe()\n",
    "student_2018.isnull().sum()"
   ]
  },
  {
   "cell_type": "code",
   "execution_count": 34,
   "metadata": {
    "scrolled": true
   },
   "outputs": [
    {
     "data": {
      "text/plain": [
       "32479"
      ]
     },
     "execution_count": 34,
     "metadata": {},
     "output_type": "execute_result"
    }
   ],
   "source": [
    "student_sum = len(student_2014)+len(student_2015)+len(student_2016)+len(student_2017)+len(student_2018)\n",
    "student_sum"
   ]
  },
  {
   "cell_type": "code",
   "execution_count": 35,
   "metadata": {},
   "outputs": [
    {
     "data": {
      "text/plain": [
       "32480"
      ]
     },
     "execution_count": 35,
     "metadata": {},
     "output_type": "execute_result"
    }
   ],
   "source": [
    "len(df_student)"
   ]
  },
  {
   "cell_type": "code",
   "execution_count": 36,
   "metadata": {
    "scrolled": false
   },
   "outputs": [
    {
     "data": {
      "text/plain": [
       "xh          0\n",
       "xm          0\n",
       "xb          0\n",
       "mzm      1970\n",
       "zzmmm    2519\n",
       "age       494\n",
       "dtype: int64"
      ]
     },
     "execution_count": 36,
     "metadata": {},
     "output_type": "execute_result"
    }
   ],
   "source": [
    "df_student.isnull().sum()"
   ]
  },
  {
   "cell_type": "code",
   "execution_count": 37,
   "metadata": {
    "scrolled": false
   },
   "outputs": [
    {
     "data": {
      "text/html": [
       "<div>\n",
       "<style scoped>\n",
       "    .dataframe tbody tr th:only-of-type {\n",
       "        vertical-align: middle;\n",
       "    }\n",
       "\n",
       "    .dataframe tbody tr th {\n",
       "        vertical-align: top;\n",
       "    }\n",
       "\n",
       "    .dataframe thead th {\n",
       "        text-align: right;\n",
       "    }\n",
       "</style>\n",
       "<table border=\"1\" class=\"dataframe\">\n",
       "  <thead>\n",
       "    <tr style=\"text-align: right;\">\n",
       "      <th></th>\n",
       "      <th>xh</th>\n",
       "      <th>xm</th>\n",
       "      <th>xb</th>\n",
       "      <th>mzm</th>\n",
       "      <th>zzmmm</th>\n",
       "      <th>age</th>\n",
       "    </tr>\n",
       "  </thead>\n",
       "  <tbody>\n",
       "    <tr>\n",
       "      <th>31741</th>\n",
       "      <td>999999999</td>\n",
       "      <td>王*</td>\n",
       "      <td>男</td>\n",
       "      <td>NaN</td>\n",
       "      <td>NaN</td>\n",
       "      <td>NaN</td>\n",
       "    </tr>\n",
       "  </tbody>\n",
       "</table>\n",
       "</div>"
      ],
      "text/plain": [
       "              xh  xm xb  mzm  zzmmm  age\n",
       "31741  999999999  王*  男  NaN    NaN  NaN"
      ]
     },
     "execution_count": 37,
     "metadata": {},
     "output_type": "execute_result"
    }
   ],
   "source": [
    "df_student.loc[df_student['xh'].isin([999999999])]"
   ]
  },
  {
   "cell_type": "markdown",
   "metadata": {},
   "source": [
    "**学号为99999999**"
   ]
  },
  {
   "cell_type": "code",
   "execution_count": 38,
   "metadata": {},
   "outputs": [
    {
     "data": {
      "text/plain": [
       "23.0"
      ]
     },
     "execution_count": 38,
     "metadata": {},
     "output_type": "execute_result"
    }
   ],
   "source": [
    "age_2014 = student_2014['age'].median()\n",
    "age_2014"
   ]
  },
  {
   "cell_type": "code",
   "execution_count": 39,
   "metadata": {
    "scrolled": true
   },
   "outputs": [
    {
     "data": {
      "text/plain": [
       "22.0"
      ]
     },
     "execution_count": 39,
     "metadata": {},
     "output_type": "execute_result"
    }
   ],
   "source": [
    "age_2015 = student_2015['age'].median()\n",
    "age_2015"
   ]
  },
  {
   "cell_type": "code",
   "execution_count": 40,
   "metadata": {},
   "outputs": [
    {
     "data": {
      "text/plain": [
       "21.0"
      ]
     },
     "execution_count": 40,
     "metadata": {},
     "output_type": "execute_result"
    }
   ],
   "source": [
    "age_2016 = student_2016['age'].median()\n",
    "age_2016"
   ]
  },
  {
   "cell_type": "code",
   "execution_count": 41,
   "metadata": {},
   "outputs": [
    {
     "data": {
      "text/plain": [
       "20.0"
      ]
     },
     "execution_count": 41,
     "metadata": {},
     "output_type": "execute_result"
    }
   ],
   "source": [
    "age_2017 = student_2017['age'].median()\n",
    "age_2017"
   ]
  },
  {
   "cell_type": "code",
   "execution_count": 42,
   "metadata": {},
   "outputs": [
    {
     "data": {
      "text/plain": [
       "19.0"
      ]
     },
     "execution_count": 42,
     "metadata": {},
     "output_type": "execute_result"
    }
   ],
   "source": [
    "age_2018 = student_2018['age'].median()\n",
    "age_2018"
   ]
  },
  {
   "cell_type": "markdown",
   "metadata": {},
   "source": [
    "**填补缺失年龄数据**"
   ]
  },
  {
   "cell_type": "code",
   "execution_count": 43,
   "metadata": {},
   "outputs": [],
   "source": [
    "df_student.loc[df_student['xh'].isin(student_2014['xh']),'age'] = age_2014\n",
    "df_student.loc[df_student['xh'].isin(student_2015['xh']),'age'] = age_2015\n",
    "df_student.loc[df_student['xh'].isin(student_2016['xh']),'age'] = age_2016\n",
    "df_student.loc[df_student['xh'].isin(student_2017['xh']),'age'] = age_2017\n",
    "df_student.loc[df_student['xh'].isin(student_2018['xh']),'age'] = age_2018"
   ]
  },
  {
   "cell_type": "code",
   "execution_count": 44,
   "metadata": {
    "scrolled": false
   },
   "outputs": [
    {
     "data": {
      "text/plain": [
       "xh          0\n",
       "xm          0\n",
       "xb          0\n",
       "mzm      1970\n",
       "zzmmm    2519\n",
       "age         1\n",
       "dtype: int64"
      ]
     },
     "execution_count": 44,
     "metadata": {},
     "output_type": "execute_result"
    }
   ],
   "source": [
    "df_student.isnull().sum()"
   ]
  },
  {
   "cell_type": "markdown",
   "metadata": {},
   "source": [
    "**学号为999999999的学生年龄并没有处理，可以根据入学年份处理**"
   ]
  },
  {
   "cell_type": "markdown",
   "metadata": {},
   "source": [
    "**填补缺失民族码数据**"
   ]
  },
  {
   "cell_type": "code",
   "execution_count": 45,
   "metadata": {},
   "outputs": [],
   "source": [
    "df_student.loc[df_student['xh'].isin(student_2014['xh']),'mzm'] = student_2014['mzm'].median()\n",
    "df_student.loc[df_student['xh'].isin(student_2015['xh']),'mzm'] = student_2015['mzm'].median()\n",
    "df_student.loc[df_student['xh'].isin(student_2016['xh']),'mzm'] = student_2016['mzm'].median()\n",
    "df_student.loc[df_student['xh'].isin(student_2017['xh']),'mzm'] = student_2017['mzm'].median()\n",
    "df_student.loc[df_student['xh'].isin(student_2018['xh']),'mzm'] = student_2018['mzm'].median()"
   ]
  },
  {
   "cell_type": "markdown",
   "metadata": {},
   "source": [
    "**填补缺失政治面貌码数据**"
   ]
  },
  {
   "cell_type": "code",
   "execution_count": 46,
   "metadata": {},
   "outputs": [],
   "source": [
    "df_student.loc[df_student['xh'].isin(student_2014['xh']),'zzmmm'] = student_2014['zzmmm'].median()\n",
    "df_student.loc[df_student['xh'].isin(student_2015['xh']),'zzmmm'] = student_2015['zzmmm'].median()\n",
    "df_student.loc[df_student['xh'].isin(student_2016['xh']),'zzmmm'] = student_2016['zzmmm'].median()\n",
    "df_student.loc[df_student['xh'].isin(student_2017['xh']),'zzmmm'] = student_2017['zzmmm'].median()\n",
    "df_student.loc[df_student['xh'].isin(student_2018['xh']),'zzmmm'] = student_2018['zzmmm'].median()"
   ]
  },
  {
   "cell_type": "code",
   "execution_count": 47,
   "metadata": {},
   "outputs": [
    {
     "data": {
      "text/plain": [
       "xh       0\n",
       "xm       0\n",
       "xb       0\n",
       "mzm      1\n",
       "zzmmm    1\n",
       "age      1\n",
       "dtype: int64"
      ]
     },
     "execution_count": 47,
     "metadata": {},
     "output_type": "execute_result"
    }
   ],
   "source": [
    "df_student.isnull().sum()"
   ]
  },
  {
   "cell_type": "code",
   "execution_count": 48,
   "metadata": {
    "scrolled": false
   },
   "outputs": [
    {
     "data": {
      "text/html": [
       "<div>\n",
       "<style scoped>\n",
       "    .dataframe tbody tr th:only-of-type {\n",
       "        vertical-align: middle;\n",
       "    }\n",
       "\n",
       "    .dataframe tbody tr th {\n",
       "        vertical-align: top;\n",
       "    }\n",
       "\n",
       "    .dataframe thead th {\n",
       "        text-align: right;\n",
       "    }\n",
       "</style>\n",
       "<table border=\"1\" class=\"dataframe\">\n",
       "  <thead>\n",
       "    <tr style=\"text-align: right;\">\n",
       "      <th></th>\n",
       "      <th>xh</th>\n",
       "      <th>mzm</th>\n",
       "      <th>zzmmm</th>\n",
       "      <th>age</th>\n",
       "    </tr>\n",
       "  </thead>\n",
       "  <tbody>\n",
       "    <tr>\n",
       "      <th>count</th>\n",
       "      <td>3.248000e+04</td>\n",
       "      <td>32479.0</td>\n",
       "      <td>32479.0</td>\n",
       "      <td>32479.000000</td>\n",
       "    </tr>\n",
       "    <tr>\n",
       "      <th>mean</th>\n",
       "      <td>2.016610e+08</td>\n",
       "      <td>1.0</td>\n",
       "      <td>3.0</td>\n",
       "      <td>21.032144</td>\n",
       "    </tr>\n",
       "    <tr>\n",
       "      <th>std</th>\n",
       "      <td>4.432228e+06</td>\n",
       "      <td>0.0</td>\n",
       "      <td>0.0</td>\n",
       "      <td>1.413238</td>\n",
       "    </tr>\n",
       "    <tr>\n",
       "      <th>min</th>\n",
       "      <td>2.014000e+08</td>\n",
       "      <td>1.0</td>\n",
       "      <td>3.0</td>\n",
       "      <td>19.000000</td>\n",
       "    </tr>\n",
       "    <tr>\n",
       "      <th>25%</th>\n",
       "      <td>2.015150e+08</td>\n",
       "      <td>1.0</td>\n",
       "      <td>3.0</td>\n",
       "      <td>20.000000</td>\n",
       "    </tr>\n",
       "    <tr>\n",
       "      <th>50%</th>\n",
       "      <td>2.016321e+08</td>\n",
       "      <td>1.0</td>\n",
       "      <td>3.0</td>\n",
       "      <td>21.000000</td>\n",
       "    </tr>\n",
       "    <tr>\n",
       "      <th>75%</th>\n",
       "      <td>2.017541e+08</td>\n",
       "      <td>1.0</td>\n",
       "      <td>3.0</td>\n",
       "      <td>22.000000</td>\n",
       "    </tr>\n",
       "    <tr>\n",
       "      <th>max</th>\n",
       "      <td>1.000000e+09</td>\n",
       "      <td>1.0</td>\n",
       "      <td>3.0</td>\n",
       "      <td>23.000000</td>\n",
       "    </tr>\n",
       "  </tbody>\n",
       "</table>\n",
       "</div>"
      ],
      "text/plain": [
       "                 xh      mzm    zzmmm           age\n",
       "count  3.248000e+04  32479.0  32479.0  32479.000000\n",
       "mean   2.016610e+08      1.0      3.0     21.032144\n",
       "std    4.432228e+06      0.0      0.0      1.413238\n",
       "min    2.014000e+08      1.0      3.0     19.000000\n",
       "25%    2.015150e+08      1.0      3.0     20.000000\n",
       "50%    2.016321e+08      1.0      3.0     21.000000\n",
       "75%    2.017541e+08      1.0      3.0     22.000000\n",
       "max    1.000000e+09      1.0      3.0     23.000000"
      ]
     },
     "execution_count": 48,
     "metadata": {},
     "output_type": "execute_result"
    }
   ],
   "source": [
    "df_student.describe()"
   ]
  },
  {
   "cell_type": "code",
   "execution_count": 52,
   "metadata": {
    "scrolled": true
   },
   "outputs": [
    {
     "data": {
      "text/html": [
       "<div>\n",
       "<style scoped>\n",
       "    .dataframe tbody tr th:only-of-type {\n",
       "        vertical-align: middle;\n",
       "    }\n",
       "\n",
       "    .dataframe tbody tr th {\n",
       "        vertical-align: top;\n",
       "    }\n",
       "\n",
       "    .dataframe thead th {\n",
       "        text-align: right;\n",
       "    }\n",
       "</style>\n",
       "<table border=\"1\" class=\"dataframe\">\n",
       "  <thead>\n",
       "    <tr style=\"text-align: right;\">\n",
       "      <th></th>\n",
       "      <th>xh</th>\n",
       "      <th>xm</th>\n",
       "      <th>xb</th>\n",
       "      <th>mzm</th>\n",
       "      <th>zzmmm</th>\n",
       "      <th>age</th>\n",
       "    </tr>\n",
       "  </thead>\n",
       "  <tbody>\n",
       "    <tr>\n",
       "      <th>31741</th>\n",
       "      <td>999999999</td>\n",
       "      <td>王*</td>\n",
       "      <td>男</td>\n",
       "      <td>NaN</td>\n",
       "      <td>NaN</td>\n",
       "      <td>NaN</td>\n",
       "    </tr>\n",
       "  </tbody>\n",
       "</table>\n",
       "</div>"
      ],
      "text/plain": [
       "              xh  xm xb  mzm  zzmmm  age\n",
       "31741  999999999  王*  男  NaN    NaN  NaN"
      ]
     },
     "execution_count": 52,
     "metadata": {},
     "output_type": "execute_result"
    }
   ],
   "source": [
    "std_null =  df_student[df_student['mzm'].isnull()]\n",
    "std_null"
   ]
  },
  {
   "cell_type": "code",
   "execution_count": 53,
   "metadata": {},
   "outputs": [],
   "source": [
    "df_student.drop(labels=std_null.index,inplace=True,axis=0)"
   ]
  },
  {
   "cell_type": "code",
   "execution_count": 54,
   "metadata": {},
   "outputs": [
    {
     "data": {
      "text/plain": [
       "xh       0\n",
       "xm       0\n",
       "xb       0\n",
       "mzm      0\n",
       "zzmmm    0\n",
       "age      0\n",
       "dtype: int64"
      ]
     },
     "execution_count": 54,
     "metadata": {},
     "output_type": "execute_result"
    }
   ],
   "source": [
    "df_student.isnull().sum()"
   ]
  },
  {
   "cell_type": "code",
   "execution_count": 55,
   "metadata": {},
   "outputs": [],
   "source": [
    "df_student.to_csv('student.csv',encoding='utf-8',index=False)"
   ]
  }
 ],
 "metadata": {
  "kernelspec": {
   "display_name": "Python 3",
   "language": "python",
   "name": "python3"
  },
  "language_info": {
   "codemirror_mode": {
    "name": "ipython",
    "version": 3
   },
   "file_extension": ".py",
   "mimetype": "text/x-python",
   "name": "python",
   "nbconvert_exporter": "python",
   "pygments_lexer": "ipython3",
   "version": "3.6.8"
  }
 },
 "nbformat": 4,
 "nbformat_minor": 2
}
