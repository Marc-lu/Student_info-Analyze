{
 "cells": [
  {
   "cell_type": "code",
   "execution_count": 1,
   "metadata": {},
   "outputs": [],
   "source": [
    "import pandas as pd"
   ]
  },
  {
   "cell_type": "markdown",
   "metadata": {},
   "source": [
    "**成绩表中有两个sheet，将其分别导出正确编码的两个csv之后，合并**"
   ]
  },
  {
   "cell_type": "code",
   "execution_count": 2,
   "metadata": {},
   "outputs": [
    {
     "data": {
      "text/html": [
       "<div>\n",
       "<style scoped>\n",
       "    .dataframe tbody tr th:only-of-type {\n",
       "        vertical-align: middle;\n",
       "    }\n",
       "\n",
       "    .dataframe tbody tr th {\n",
       "        vertical-align: top;\n",
       "    }\n",
       "\n",
       "    .dataframe thead th {\n",
       "        text-align: right;\n",
       "    }\n",
       "</style>\n",
       "<table border=\"1\" class=\"dataframe\">\n",
       "  <thead>\n",
       "    <tr style=\"text-align: right;\">\n",
       "      <th></th>\n",
       "      <th>xh</th>\n",
       "      <th>xqm</th>\n",
       "      <th>ksrq</th>\n",
       "      <th>pscj</th>\n",
       "      <th>ksxzm</th>\n",
       "      <th>ksxsm</th>\n",
       "      <th>fslkscj</th>\n",
       "      <th>djlkscj</th>\n",
       "      <th>kccj</th>\n",
       "      <th>kcdjcjm</th>\n",
       "      <th>...</th>\n",
       "      <th>jd</th>\n",
       "      <th>sfcx</th>\n",
       "      <th>jxbh</th>\n",
       "      <th>kcsxdm</th>\n",
       "      <th>xdfsdm</th>\n",
       "      <th>kslxdm</th>\n",
       "      <th>djcj</th>\n",
       "      <th>cxbkbz</th>\n",
       "      <th>cjlrfsdm</th>\n",
       "      <th>tdkch</th>\n",
       "    </tr>\n",
       "  </thead>\n",
       "  <tbody>\n",
       "    <tr>\n",
       "      <th>count</th>\n",
       "      <td>1.048575e+06</td>\n",
       "      <td>1.048575e+06</td>\n",
       "      <td>1.048575e+06</td>\n",
       "      <td>1048575.0</td>\n",
       "      <td>0.0</td>\n",
       "      <td>0.0</td>\n",
       "      <td>1.048575e+06</td>\n",
       "      <td>987105.000000</td>\n",
       "      <td>1.048575e+06</td>\n",
       "      <td>0.0</td>\n",
       "      <td>...</td>\n",
       "      <td>1048575.0</td>\n",
       "      <td>0.0</td>\n",
       "      <td>0.0</td>\n",
       "      <td>1.048565e+06</td>\n",
       "      <td>1.048428e+06</td>\n",
       "      <td>52177.000000</td>\n",
       "      <td>987105.000000</td>\n",
       "      <td>0.0</td>\n",
       "      <td>1.048575e+06</td>\n",
       "      <td>6.906300e+04</td>\n",
       "    </tr>\n",
       "    <tr>\n",
       "      <th>mean</th>\n",
       "      <td>2.015363e+08</td>\n",
       "      <td>1.588700e+00</td>\n",
       "      <td>2.017078e+07</td>\n",
       "      <td>0.0</td>\n",
       "      <td>NaN</td>\n",
       "      <td>NaN</td>\n",
       "      <td>7.631593e+01</td>\n",
       "      <td>6.378796</td>\n",
       "      <td>7.631593e+01</td>\n",
       "      <td>NaN</td>\n",
       "      <td>...</td>\n",
       "      <td>0.0</td>\n",
       "      <td>NaN</td>\n",
       "      <td>NaN</td>\n",
       "      <td>1.090920e+00</td>\n",
       "      <td>1.234840e+00</td>\n",
       "      <td>1.658949</td>\n",
       "      <td>-74.953998</td>\n",
       "      <td>NaN</td>\n",
       "      <td>1.026376e+00</td>\n",
       "      <td>1.120715e+09</td>\n",
       "    </tr>\n",
       "    <tr>\n",
       "      <th>std</th>\n",
       "      <td>1.859474e+06</td>\n",
       "      <td>6.365320e-01</td>\n",
       "      <td>1.967066e+05</td>\n",
       "      <td>0.0</td>\n",
       "      <td>NaN</td>\n",
       "      <td>NaN</td>\n",
       "      <td>2.491665e+01</td>\n",
       "      <td>5.261807</td>\n",
       "      <td>2.491665e+01</td>\n",
       "      <td>NaN</td>\n",
       "      <td>...</td>\n",
       "      <td>0.0</td>\n",
       "      <td>NaN</td>\n",
       "      <td>NaN</td>\n",
       "      <td>8.182359e-01</td>\n",
       "      <td>1.122434e+00</td>\n",
       "      <td>0.606492</td>\n",
       "      <td>10.610856</td>\n",
       "      <td>NaN</td>\n",
       "      <td>1.602502e-01</td>\n",
       "      <td>3.593291e+07</td>\n",
       "    </tr>\n",
       "    <tr>\n",
       "      <th>min</th>\n",
       "      <td>2.150525e+07</td>\n",
       "      <td>1.000000e+00</td>\n",
       "      <td>1.807010e+05</td>\n",
       "      <td>0.0</td>\n",
       "      <td>NaN</td>\n",
       "      <td>NaN</td>\n",
       "      <td>0.000000e+00</td>\n",
       "      <td>1.000000</td>\n",
       "      <td>0.000000e+00</td>\n",
       "      <td>NaN</td>\n",
       "      <td>...</td>\n",
       "      <td>0.0</td>\n",
       "      <td>NaN</td>\n",
       "      <td>NaN</td>\n",
       "      <td>0.000000e+00</td>\n",
       "      <td>1.000000e+00</td>\n",
       "      <td>1.000000</td>\n",
       "      <td>-90.000000</td>\n",
       "      <td>NaN</td>\n",
       "      <td>1.000000e+00</td>\n",
       "      <td>1.820020e+06</td>\n",
       "    </tr>\n",
       "    <tr>\n",
       "      <th>25%</th>\n",
       "      <td>2.014580e+08</td>\n",
       "      <td>1.000000e+00</td>\n",
       "      <td>2.016063e+07</td>\n",
       "      <td>0.0</td>\n",
       "      <td>NaN</td>\n",
       "      <td>NaN</td>\n",
       "      <td>7.000000e+01</td>\n",
       "      <td>2.000000</td>\n",
       "      <td>7.000000e+01</td>\n",
       "      <td>NaN</td>\n",
       "      <td>...</td>\n",
       "      <td>0.0</td>\n",
       "      <td>NaN</td>\n",
       "      <td>NaN</td>\n",
       "      <td>1.000000e+00</td>\n",
       "      <td>1.000000e+00</td>\n",
       "      <td>1.000000</td>\n",
       "      <td>-80.000000</td>\n",
       "      <td>NaN</td>\n",
       "      <td>1.000000e+00</td>\n",
       "      <td>1.100020e+09</td>\n",
       "    </tr>\n",
       "    <tr>\n",
       "      <th>50%</th>\n",
       "      <td>2.015370e+08</td>\n",
       "      <td>2.000000e+00</td>\n",
       "      <td>2.017062e+07</td>\n",
       "      <td>0.0</td>\n",
       "      <td>NaN</td>\n",
       "      <td>NaN</td>\n",
       "      <td>8.100000e+01</td>\n",
       "      <td>2.000000</td>\n",
       "      <td>8.100000e+01</td>\n",
       "      <td>NaN</td>\n",
       "      <td>...</td>\n",
       "      <td>0.0</td>\n",
       "      <td>NaN</td>\n",
       "      <td>NaN</td>\n",
       "      <td>1.000000e+00</td>\n",
       "      <td>1.000000e+00</td>\n",
       "      <td>2.000000</td>\n",
       "      <td>-80.000000</td>\n",
       "      <td>NaN</td>\n",
       "      <td>1.000000e+00</td>\n",
       "      <td>1.130020e+09</td>\n",
       "    </tr>\n",
       "    <tr>\n",
       "      <th>75%</th>\n",
       "      <td>2.016341e+08</td>\n",
       "      <td>2.000000e+00</td>\n",
       "      <td>2.018031e+07</td>\n",
       "      <td>0.0</td>\n",
       "      <td>NaN</td>\n",
       "      <td>NaN</td>\n",
       "      <td>8.800000e+01</td>\n",
       "      <td>12.000000</td>\n",
       "      <td>8.800000e+01</td>\n",
       "      <td>NaN</td>\n",
       "      <td>...</td>\n",
       "      <td>0.0</td>\n",
       "      <td>NaN</td>\n",
       "      <td>NaN</td>\n",
       "      <td>1.000000e+00</td>\n",
       "      <td>1.000000e+00</td>\n",
       "      <td>2.000000</td>\n",
       "      <td>-70.000000</td>\n",
       "      <td>NaN</td>\n",
       "      <td>1.000000e+00</td>\n",
       "      <td>1.130020e+09</td>\n",
       "    </tr>\n",
       "    <tr>\n",
       "      <th>max</th>\n",
       "      <td>2.996192e+08</td>\n",
       "      <td>3.000000e+00</td>\n",
       "      <td>2.014250e+08</td>\n",
       "      <td>0.0</td>\n",
       "      <td>NaN</td>\n",
       "      <td>NaN</td>\n",
       "      <td>8.600000e+02</td>\n",
       "      <td>13.000000</td>\n",
       "      <td>8.600000e+02</td>\n",
       "      <td>NaN</td>\n",
       "      <td>...</td>\n",
       "      <td>0.0</td>\n",
       "      <td>NaN</td>\n",
       "      <td>NaN</td>\n",
       "      <td>4.000000e+00</td>\n",
       "      <td>9.000000e+00</td>\n",
       "      <td>3.000000</td>\n",
       "      <td>-59.000000</td>\n",
       "      <td>NaN</td>\n",
       "      <td>2.000000e+00</td>\n",
       "      <td>1.306030e+09</td>\n",
       "    </tr>\n",
       "  </tbody>\n",
       "</table>\n",
       "<p>8 rows × 22 columns</p>\n",
       "</div>"
      ],
      "text/plain": [
       "                 xh           xqm          ksrq       pscj  ksxzm  ksxsm  \\\n",
       "count  1.048575e+06  1.048575e+06  1.048575e+06  1048575.0    0.0    0.0   \n",
       "mean   2.015363e+08  1.588700e+00  2.017078e+07        0.0    NaN    NaN   \n",
       "std    1.859474e+06  6.365320e-01  1.967066e+05        0.0    NaN    NaN   \n",
       "min    2.150525e+07  1.000000e+00  1.807010e+05        0.0    NaN    NaN   \n",
       "25%    2.014580e+08  1.000000e+00  2.016063e+07        0.0    NaN    NaN   \n",
       "50%    2.015370e+08  2.000000e+00  2.017062e+07        0.0    NaN    NaN   \n",
       "75%    2.016341e+08  2.000000e+00  2.018031e+07        0.0    NaN    NaN   \n",
       "max    2.996192e+08  3.000000e+00  2.014250e+08        0.0    NaN    NaN   \n",
       "\n",
       "            fslkscj        djlkscj          kccj  kcdjcjm  ...         jd  \\\n",
       "count  1.048575e+06  987105.000000  1.048575e+06      0.0  ...  1048575.0   \n",
       "mean   7.631593e+01       6.378796  7.631593e+01      NaN  ...        0.0   \n",
       "std    2.491665e+01       5.261807  2.491665e+01      NaN  ...        0.0   \n",
       "min    0.000000e+00       1.000000  0.000000e+00      NaN  ...        0.0   \n",
       "25%    7.000000e+01       2.000000  7.000000e+01      NaN  ...        0.0   \n",
       "50%    8.100000e+01       2.000000  8.100000e+01      NaN  ...        0.0   \n",
       "75%    8.800000e+01      12.000000  8.800000e+01      NaN  ...        0.0   \n",
       "max    8.600000e+02      13.000000  8.600000e+02      NaN  ...        0.0   \n",
       "\n",
       "       sfcx  jxbh        kcsxdm        xdfsdm        kslxdm           djcj  \\\n",
       "count   0.0   0.0  1.048565e+06  1.048428e+06  52177.000000  987105.000000   \n",
       "mean    NaN   NaN  1.090920e+00  1.234840e+00      1.658949     -74.953998   \n",
       "std     NaN   NaN  8.182359e-01  1.122434e+00      0.606492      10.610856   \n",
       "min     NaN   NaN  0.000000e+00  1.000000e+00      1.000000     -90.000000   \n",
       "25%     NaN   NaN  1.000000e+00  1.000000e+00      1.000000     -80.000000   \n",
       "50%     NaN   NaN  1.000000e+00  1.000000e+00      2.000000     -80.000000   \n",
       "75%     NaN   NaN  1.000000e+00  1.000000e+00      2.000000     -70.000000   \n",
       "max     NaN   NaN  4.000000e+00  9.000000e+00      3.000000     -59.000000   \n",
       "\n",
       "       cxbkbz      cjlrfsdm         tdkch  \n",
       "count     0.0  1.048575e+06  6.906300e+04  \n",
       "mean      NaN  1.026376e+00  1.120715e+09  \n",
       "std       NaN  1.602502e-01  3.593291e+07  \n",
       "min       NaN  1.000000e+00  1.820020e+06  \n",
       "25%       NaN  1.000000e+00  1.100020e+09  \n",
       "50%       NaN  1.000000e+00  1.130020e+09  \n",
       "75%       NaN  1.000000e+00  1.130020e+09  \n",
       "max       NaN  2.000000e+00  1.306030e+09  \n",
       "\n",
       "[8 rows x 22 columns]"
      ]
     },
     "execution_count": 2,
     "metadata": {},
     "output_type": "execute_result"
    }
   ],
   "source": [
    "df_score1 = pd.read_csv('bks_cjxx_out.csv',encoding = 'utf-8')\n",
    "df_score1.describe()"
   ]
  },
  {
   "cell_type": "code",
   "execution_count": 3,
   "metadata": {},
   "outputs": [],
   "source": [
    "df_score2 = pd.read_csv('bks_cjxx_out2.csv',encoding = 'utf-8',header=None,names=['xh','xn','xqm','ksrq','kch','pscj','ksxzm','ksxsm','fslkscj','djlkscj','kccj','kcdjcjm','rkjsgh','cjbh','xf','jd','sfcx','jxbh','kcsxdm','xdfsdm','kxh','cjfw','kslxdm','djcj','cxbkbz','cjlrfsdm','tdkch'])"
   ]
  },
  {
   "cell_type": "code",
   "execution_count": 4,
   "metadata": {},
   "outputs": [
    {
     "data": {
      "text/html": [
       "<div>\n",
       "<style scoped>\n",
       "    .dataframe tbody tr th:only-of-type {\n",
       "        vertical-align: middle;\n",
       "    }\n",
       "\n",
       "    .dataframe tbody tr th {\n",
       "        vertical-align: top;\n",
       "    }\n",
       "\n",
       "    .dataframe thead th {\n",
       "        text-align: right;\n",
       "    }\n",
       "</style>\n",
       "<table border=\"1\" class=\"dataframe\">\n",
       "  <thead>\n",
       "    <tr style=\"text-align: right;\">\n",
       "      <th></th>\n",
       "      <th>xh</th>\n",
       "      <th>xqm</th>\n",
       "      <th>ksrq</th>\n",
       "      <th>pscj</th>\n",
       "      <th>ksxzm</th>\n",
       "      <th>ksxsm</th>\n",
       "      <th>fslkscj</th>\n",
       "      <th>djlkscj</th>\n",
       "      <th>kccj</th>\n",
       "      <th>kcdjcjm</th>\n",
       "      <th>...</th>\n",
       "      <th>jd</th>\n",
       "      <th>sfcx</th>\n",
       "      <th>jxbh</th>\n",
       "      <th>kcsxdm</th>\n",
       "      <th>xdfsdm</th>\n",
       "      <th>kslxdm</th>\n",
       "      <th>djcj</th>\n",
       "      <th>cxbkbz</th>\n",
       "      <th>cjlrfsdm</th>\n",
       "      <th>tdkch</th>\n",
       "    </tr>\n",
       "  </thead>\n",
       "  <tbody>\n",
       "    <tr>\n",
       "      <th>count</th>\n",
       "      <td>1.843610e+06</td>\n",
       "      <td>1.843610e+06</td>\n",
       "      <td>1.843610e+06</td>\n",
       "      <td>1843610.0</td>\n",
       "      <td>0.0</td>\n",
       "      <td>0.0</td>\n",
       "      <td>1.843610e+06</td>\n",
       "      <td>1.706481e+06</td>\n",
       "      <td>1.843610e+06</td>\n",
       "      <td>0.0</td>\n",
       "      <td>...</td>\n",
       "      <td>1843610.0</td>\n",
       "      <td>0.0</td>\n",
       "      <td>0.0</td>\n",
       "      <td>1.843578e+06</td>\n",
       "      <td>1.843393e+06</td>\n",
       "      <td>111275.000000</td>\n",
       "      <td>1.706481e+06</td>\n",
       "      <td>0.0</td>\n",
       "      <td>1.843610e+06</td>\n",
       "      <td>1.090200e+05</td>\n",
       "    </tr>\n",
       "    <tr>\n",
       "      <th>mean</th>\n",
       "      <td>2.015340e+08</td>\n",
       "      <td>1.529649e+00</td>\n",
       "      <td>2.017194e+07</td>\n",
       "      <td>0.0</td>\n",
       "      <td>NaN</td>\n",
       "      <td>NaN</td>\n",
       "      <td>8.273941e+01</td>\n",
       "      <td>6.389434e+00</td>\n",
       "      <td>8.273941e+01</td>\n",
       "      <td>NaN</td>\n",
       "      <td>...</td>\n",
       "      <td>0.0</td>\n",
       "      <td>NaN</td>\n",
       "      <td>NaN</td>\n",
       "      <td>1.117786e+00</td>\n",
       "      <td>1.296093e+00</td>\n",
       "      <td>2.027499</td>\n",
       "      <td>-7.490212e+01</td>\n",
       "      <td>NaN</td>\n",
       "      <td>1.022100e+00</td>\n",
       "      <td>1.120717e+09</td>\n",
       "    </tr>\n",
       "    <tr>\n",
       "      <th>std</th>\n",
       "      <td>2.424214e+06</td>\n",
       "      <td>6.215617e-01</td>\n",
       "      <td>1.653643e+05</td>\n",
       "      <td>0.0</td>\n",
       "      <td>NaN</td>\n",
       "      <td>NaN</td>\n",
       "      <td>5.659489e+01</td>\n",
       "      <td>5.261855e+00</td>\n",
       "      <td>5.659489e+01</td>\n",
       "      <td>NaN</td>\n",
       "      <td>...</td>\n",
       "      <td>0.0</td>\n",
       "      <td>NaN</td>\n",
       "      <td>NaN</td>\n",
       "      <td>8.210477e-01</td>\n",
       "      <td>1.285147e+00</td>\n",
       "      <td>0.838902</td>\n",
       "      <td>1.060499e+01</td>\n",
       "      <td>NaN</td>\n",
       "      <td>1.470092e-01</td>\n",
       "      <td>3.647871e+07</td>\n",
       "    </tr>\n",
       "    <tr>\n",
       "      <th>min</th>\n",
       "      <td>2.150178e+07</td>\n",
       "      <td>1.000000e+00</td>\n",
       "      <td>1.807010e+05</td>\n",
       "      <td>0.0</td>\n",
       "      <td>NaN</td>\n",
       "      <td>NaN</td>\n",
       "      <td>0.000000e+00</td>\n",
       "      <td>1.000000e+00</td>\n",
       "      <td>0.000000e+00</td>\n",
       "      <td>NaN</td>\n",
       "      <td>...</td>\n",
       "      <td>0.0</td>\n",
       "      <td>NaN</td>\n",
       "      <td>NaN</td>\n",
       "      <td>0.000000e+00</td>\n",
       "      <td>1.000000e+00</td>\n",
       "      <td>1.000000</td>\n",
       "      <td>-9.000000e+01</td>\n",
       "      <td>NaN</td>\n",
       "      <td>1.000000e+00</td>\n",
       "      <td>1.820020e+06</td>\n",
       "    </tr>\n",
       "    <tr>\n",
       "      <th>25%</th>\n",
       "      <td>2.014641e+08</td>\n",
       "      <td>1.000000e+00</td>\n",
       "      <td>2.016063e+07</td>\n",
       "      <td>0.0</td>\n",
       "      <td>NaN</td>\n",
       "      <td>NaN</td>\n",
       "      <td>7.000000e+01</td>\n",
       "      <td>2.000000e+00</td>\n",
       "      <td>7.000000e+01</td>\n",
       "      <td>NaN</td>\n",
       "      <td>...</td>\n",
       "      <td>0.0</td>\n",
       "      <td>NaN</td>\n",
       "      <td>NaN</td>\n",
       "      <td>1.000000e+00</td>\n",
       "      <td>1.000000e+00</td>\n",
       "      <td>1.000000</td>\n",
       "      <td>-8.000000e+01</td>\n",
       "      <td>NaN</td>\n",
       "      <td>1.000000e+00</td>\n",
       "      <td>1.100020e+09</td>\n",
       "    </tr>\n",
       "    <tr>\n",
       "      <th>50%</th>\n",
       "      <td>2.015460e+08</td>\n",
       "      <td>1.000000e+00</td>\n",
       "      <td>2.017062e+07</td>\n",
       "      <td>0.0</td>\n",
       "      <td>NaN</td>\n",
       "      <td>NaN</td>\n",
       "      <td>8.100000e+01</td>\n",
       "      <td>2.000000e+00</td>\n",
       "      <td>8.100000e+01</td>\n",
       "      <td>NaN</td>\n",
       "      <td>...</td>\n",
       "      <td>0.0</td>\n",
       "      <td>NaN</td>\n",
       "      <td>NaN</td>\n",
       "      <td>1.000000e+00</td>\n",
       "      <td>1.000000e+00</td>\n",
       "      <td>2.000000</td>\n",
       "      <td>-8.000000e+01</td>\n",
       "      <td>NaN</td>\n",
       "      <td>1.000000e+00</td>\n",
       "      <td>1.130020e+09</td>\n",
       "    </tr>\n",
       "    <tr>\n",
       "      <th>75%</th>\n",
       "      <td>2.016481e+08</td>\n",
       "      <td>2.000000e+00</td>\n",
       "      <td>2.018070e+07</td>\n",
       "      <td>0.0</td>\n",
       "      <td>NaN</td>\n",
       "      <td>NaN</td>\n",
       "      <td>8.800000e+01</td>\n",
       "      <td>1.200000e+01</td>\n",
       "      <td>8.800000e+01</td>\n",
       "      <td>NaN</td>\n",
       "      <td>...</td>\n",
       "      <td>0.0</td>\n",
       "      <td>NaN</td>\n",
       "      <td>NaN</td>\n",
       "      <td>1.000000e+00</td>\n",
       "      <td>1.000000e+00</td>\n",
       "      <td>3.000000</td>\n",
       "      <td>-7.000000e+01</td>\n",
       "      <td>NaN</td>\n",
       "      <td>1.000000e+00</td>\n",
       "      <td>1.130020e+09</td>\n",
       "    </tr>\n",
       "    <tr>\n",
       "      <th>max</th>\n",
       "      <td>2.996192e+08</td>\n",
       "      <td>3.000000e+00</td>\n",
       "      <td>2.014250e+08</td>\n",
       "      <td>0.0</td>\n",
       "      <td>NaN</td>\n",
       "      <td>NaN</td>\n",
       "      <td>8.600000e+02</td>\n",
       "      <td>1.300000e+01</td>\n",
       "      <td>8.600000e+02</td>\n",
       "      <td>NaN</td>\n",
       "      <td>...</td>\n",
       "      <td>0.0</td>\n",
       "      <td>NaN</td>\n",
       "      <td>NaN</td>\n",
       "      <td>4.000000e+00</td>\n",
       "      <td>9.000000e+00</td>\n",
       "      <td>3.000000</td>\n",
       "      <td>-5.900000e+01</td>\n",
       "      <td>NaN</td>\n",
       "      <td>2.000000e+00</td>\n",
       "      <td>1.306030e+09</td>\n",
       "    </tr>\n",
       "  </tbody>\n",
       "</table>\n",
       "<p>8 rows × 22 columns</p>\n",
       "</div>"
      ],
      "text/plain": [
       "                 xh           xqm          ksrq       pscj  ksxzm  ksxsm  \\\n",
       "count  1.843610e+06  1.843610e+06  1.843610e+06  1843610.0    0.0    0.0   \n",
       "mean   2.015340e+08  1.529649e+00  2.017194e+07        0.0    NaN    NaN   \n",
       "std    2.424214e+06  6.215617e-01  1.653643e+05        0.0    NaN    NaN   \n",
       "min    2.150178e+07  1.000000e+00  1.807010e+05        0.0    NaN    NaN   \n",
       "25%    2.014641e+08  1.000000e+00  2.016063e+07        0.0    NaN    NaN   \n",
       "50%    2.015460e+08  1.000000e+00  2.017062e+07        0.0    NaN    NaN   \n",
       "75%    2.016481e+08  2.000000e+00  2.018070e+07        0.0    NaN    NaN   \n",
       "max    2.996192e+08  3.000000e+00  2.014250e+08        0.0    NaN    NaN   \n",
       "\n",
       "            fslkscj       djlkscj          kccj  kcdjcjm  ...         jd  \\\n",
       "count  1.843610e+06  1.706481e+06  1.843610e+06      0.0  ...  1843610.0   \n",
       "mean   8.273941e+01  6.389434e+00  8.273941e+01      NaN  ...        0.0   \n",
       "std    5.659489e+01  5.261855e+00  5.659489e+01      NaN  ...        0.0   \n",
       "min    0.000000e+00  1.000000e+00  0.000000e+00      NaN  ...        0.0   \n",
       "25%    7.000000e+01  2.000000e+00  7.000000e+01      NaN  ...        0.0   \n",
       "50%    8.100000e+01  2.000000e+00  8.100000e+01      NaN  ...        0.0   \n",
       "75%    8.800000e+01  1.200000e+01  8.800000e+01      NaN  ...        0.0   \n",
       "max    8.600000e+02  1.300000e+01  8.600000e+02      NaN  ...        0.0   \n",
       "\n",
       "       sfcx  jxbh        kcsxdm        xdfsdm         kslxdm          djcj  \\\n",
       "count   0.0   0.0  1.843578e+06  1.843393e+06  111275.000000  1.706481e+06   \n",
       "mean    NaN   NaN  1.117786e+00  1.296093e+00       2.027499 -7.490212e+01   \n",
       "std     NaN   NaN  8.210477e-01  1.285147e+00       0.838902  1.060499e+01   \n",
       "min     NaN   NaN  0.000000e+00  1.000000e+00       1.000000 -9.000000e+01   \n",
       "25%     NaN   NaN  1.000000e+00  1.000000e+00       1.000000 -8.000000e+01   \n",
       "50%     NaN   NaN  1.000000e+00  1.000000e+00       2.000000 -8.000000e+01   \n",
       "75%     NaN   NaN  1.000000e+00  1.000000e+00       3.000000 -7.000000e+01   \n",
       "max     NaN   NaN  4.000000e+00  9.000000e+00       3.000000 -5.900000e+01   \n",
       "\n",
       "       cxbkbz      cjlrfsdm         tdkch  \n",
       "count     0.0  1.843610e+06  1.090200e+05  \n",
       "mean      NaN  1.022100e+00  1.120717e+09  \n",
       "std       NaN  1.470092e-01  3.647871e+07  \n",
       "min       NaN  1.000000e+00  1.820020e+06  \n",
       "25%       NaN  1.000000e+00  1.100020e+09  \n",
       "50%       NaN  1.000000e+00  1.130020e+09  \n",
       "75%       NaN  1.000000e+00  1.130020e+09  \n",
       "max       NaN  2.000000e+00  1.306030e+09  \n",
       "\n",
       "[8 rows x 22 columns]"
      ]
     },
     "execution_count": 4,
     "metadata": {},
     "output_type": "execute_result"
    }
   ],
   "source": [
    "df_score = df_score1.append(df_score2)\n",
    "df_score.describe()"
   ]
  },
  {
   "cell_type": "code",
   "execution_count": 5,
   "metadata": {
    "scrolled": true
   },
   "outputs": [
    {
     "data": {
      "text/plain": [
       "xh                0\n",
       "xn                0\n",
       "xqm               0\n",
       "ksrq              0\n",
       "kch               0\n",
       "pscj              0\n",
       "ksxzm       1843610\n",
       "ksxsm       1843610\n",
       "fslkscj           0\n",
       "djlkscj      137129\n",
       "kccj              0\n",
       "kcdjcjm     1843610\n",
       "rkjsgh      1843610\n",
       "cjbh              0\n",
       "xf                0\n",
       "jd                0\n",
       "sfcx        1843610\n",
       "jxbh        1843610\n",
       "kcsxdm           32\n",
       "xdfsdm          217\n",
       "kxh             214\n",
       "cjfw              0\n",
       "kslxdm      1732335\n",
       "djcj         137129\n",
       "cxbkbz      1843610\n",
       "cjlrfsdm          0\n",
       "tdkch       1734590\n",
       "dtype: int64"
      ]
     },
     "execution_count": 5,
     "metadata": {},
     "output_type": "execute_result"
    }
   ],
   "source": [
    "df_score.isnull().sum()"
   ]
  },
  {
   "cell_type": "code",
   "execution_count": 8,
   "metadata": {},
   "outputs": [
    {
     "data": {
      "text/plain": [
       "2.0     680288\n",
       "3.0     291632\n",
       "1.0     283261\n",
       "1.5     103476\n",
       "0.5      99031\n",
       "4.0      92113\n",
       "2.5      78977\n",
       "3.5      70681\n",
       "0.0      55277\n",
       "5.0      32169\n",
       "6.0      24078\n",
       "4.5      15029\n",
       "6.5       9681\n",
       "15.0      5066\n",
       "7.5        983\n",
       "8.0        581\n",
       "10.0       455\n",
       "5.5        238\n",
       "12.0       181\n",
       "16.0       174\n",
       "9.0        144\n",
       "14.0        95\n",
       "Name: xf, dtype: int64"
      ]
     },
     "execution_count": 8,
     "metadata": {},
     "output_type": "execute_result"
    }
   ],
   "source": [
    "df_score['xf'].value_counts()"
   ]
  },
  {
   "cell_type": "markdown",
   "metadata": {},
   "source": [
    "## **过滤全缺失的属性**"
   ]
  },
  {
   "cell_type": "code",
   "execution_count": 6,
   "metadata": {},
   "outputs": [],
   "source": [
    "df_score.dropna(axis=1,how='all',inplace=True)"
   ]
  },
  {
   "cell_type": "markdown",
   "metadata": {},
   "source": [
    "**根据缺失值比例过滤缺失比较严重的属性**"
   ]
  },
  {
   "cell_type": "code",
   "execution_count": 7,
   "metadata": {},
   "outputs": [
    {
     "data": {
      "text/plain": [
       "xh           0.000000\n",
       "xn           0.000000\n",
       "xqm          0.000000\n",
       "ksrq         0.000000\n",
       "kch          0.000000\n",
       "pscj         0.000000\n",
       "fslkscj      0.000000\n",
       "djlkscj      7.438070\n",
       "kccj         0.000000\n",
       "cjbh         0.000000\n",
       "xf           0.000000\n",
       "jd           0.000000\n",
       "kcsxdm       0.001736\n",
       "xdfsdm       0.011770\n",
       "kxh          0.011608\n",
       "cjfw         0.000000\n",
       "kslxdm      93.964287\n",
       "djcj         7.438070\n",
       "cjlrfsdm     0.000000\n",
       "tdkch       94.086602\n",
       "dtype: float64"
      ]
     },
     "execution_count": 7,
     "metadata": {},
     "output_type": "execute_result"
    }
   ],
   "source": [
    "df_score.isnull().sum()/len(df_score)*100"
   ]
  },
  {
   "cell_type": "code",
   "execution_count": 8,
   "metadata": {},
   "outputs": [
    {
     "data": {
      "text/plain": [
       "20"
      ]
     },
     "execution_count": 8,
     "metadata": {},
     "output_type": "execute_result"
    }
   ],
   "source": [
    "df_score.shape[1]"
   ]
  },
  {
   "cell_type": "code",
   "execution_count": 9,
   "metadata": {},
   "outputs": [],
   "source": [
    "score = df_score.copy()"
   ]
  },
  {
   "cell_type": "code",
   "execution_count": 10,
   "metadata": {},
   "outputs": [],
   "source": [
    "score.drop(columns=['kslxdm','tdkch'],inplace=True)"
   ]
  },
  {
   "cell_type": "code",
   "execution_count": 11,
   "metadata": {
    "scrolled": true
   },
   "outputs": [
    {
     "data": {
      "text/plain": [
       "xh               0\n",
       "xn               0\n",
       "xqm              0\n",
       "ksrq             0\n",
       "kch              0\n",
       "pscj             0\n",
       "fslkscj          0\n",
       "djlkscj     137129\n",
       "kccj             0\n",
       "cjbh             0\n",
       "xf               0\n",
       "jd               0\n",
       "kcsxdm          32\n",
       "xdfsdm         217\n",
       "kxh            214\n",
       "cjfw             0\n",
       "djcj        137129\n",
       "cjlrfsdm         0\n",
       "dtype: int64"
      ]
     },
     "execution_count": 11,
     "metadata": {},
     "output_type": "execute_result"
    }
   ],
   "source": [
    "score.isnull().sum()"
   ]
  },
  {
   "cell_type": "markdown",
   "metadata": {},
   "source": [
    "## **低方差滤波器，去除数据不缺失方差为0的属性**"
   ]
  },
  {
   "cell_type": "code",
   "execution_count": 12,
   "metadata": {
    "scrolled": true
   },
   "outputs": [
    {
     "data": {
      "text/plain": [
       "xh          5.876812e+12\n",
       "xqm         3.863389e-01\n",
       "ksrq        2.734536e+10\n",
       "pscj        0.000000e+00\n",
       "fslkscj     3.202981e+03\n",
       "djlkscj     2.768712e+01\n",
       "kccj        3.202981e+03\n",
       "xf          1.891545e+00\n",
       "jd          0.000000e+00\n",
       "kcsxdm      6.741194e-01\n",
       "xdfsdm      1.651603e+00\n",
       "djcj        1.124658e+02\n",
       "cjlrfsdm    2.161172e-02\n",
       "dtype: float64"
      ]
     },
     "execution_count": 12,
     "metadata": {},
     "output_type": "execute_result"
    }
   ],
   "source": [
    "score.var()"
   ]
  },
  {
   "cell_type": "code",
   "execution_count": 13,
   "metadata": {},
   "outputs": [],
   "source": [
    "score.drop(columns=['pscj','jd'],inplace=True)"
   ]
  },
  {
   "cell_type": "markdown",
   "metadata": {},
   "source": [
    "## **高相关性滤波器**"
   ]
  },
  {
   "cell_type": "code",
   "execution_count": 14,
   "metadata": {},
   "outputs": [
    {
     "data": {
      "text/html": [
       "<div>\n",
       "<style scoped>\n",
       "    .dataframe tbody tr th:only-of-type {\n",
       "        vertical-align: middle;\n",
       "    }\n",
       "\n",
       "    .dataframe tbody tr th {\n",
       "        vertical-align: top;\n",
       "    }\n",
       "\n",
       "    .dataframe thead th {\n",
       "        text-align: right;\n",
       "    }\n",
       "</style>\n",
       "<table border=\"1\" class=\"dataframe\">\n",
       "  <thead>\n",
       "    <tr style=\"text-align: right;\">\n",
       "      <th></th>\n",
       "      <th>xh</th>\n",
       "      <th>xqm</th>\n",
       "      <th>ksrq</th>\n",
       "      <th>fslkscj</th>\n",
       "      <th>djlkscj</th>\n",
       "      <th>kccj</th>\n",
       "      <th>xf</th>\n",
       "      <th>kcsxdm</th>\n",
       "      <th>xdfsdm</th>\n",
       "      <th>djcj</th>\n",
       "      <th>cjlrfsdm</th>\n",
       "    </tr>\n",
       "  </thead>\n",
       "  <tbody>\n",
       "    <tr>\n",
       "      <th>xh</th>\n",
       "      <td>1.000000</td>\n",
       "      <td>0.001164</td>\n",
       "      <td>0.001685</td>\n",
       "      <td>0.004379</td>\n",
       "      <td>-0.004786</td>\n",
       "      <td>0.004379</td>\n",
       "      <td>-0.007700</td>\n",
       "      <td>-0.029738</td>\n",
       "      <td>-0.002772</td>\n",
       "      <td>-0.007461</td>\n",
       "      <td>-0.002541</td>\n",
       "    </tr>\n",
       "    <tr>\n",
       "      <th>xqm</th>\n",
       "      <td>0.001164</td>\n",
       "      <td>1.000000</td>\n",
       "      <td>-0.014919</td>\n",
       "      <td>-0.010471</td>\n",
       "      <td>-0.056039</td>\n",
       "      <td>-0.010471</td>\n",
       "      <td>-0.008904</td>\n",
       "      <td>0.035620</td>\n",
       "      <td>0.008141</td>\n",
       "      <td>-0.058710</td>\n",
       "      <td>0.020687</td>\n",
       "    </tr>\n",
       "    <tr>\n",
       "      <th>ksrq</th>\n",
       "      <td>0.001685</td>\n",
       "      <td>-0.014919</td>\n",
       "      <td>1.000000</td>\n",
       "      <td>-0.011802</td>\n",
       "      <td>-0.001325</td>\n",
       "      <td>-0.011802</td>\n",
       "      <td>0.001733</td>\n",
       "      <td>-0.004665</td>\n",
       "      <td>0.000719</td>\n",
       "      <td>-0.000745</td>\n",
       "      <td>0.005656</td>\n",
       "    </tr>\n",
       "    <tr>\n",
       "      <th>fslkscj</th>\n",
       "      <td>0.004379</td>\n",
       "      <td>-0.010471</td>\n",
       "      <td>-0.011802</td>\n",
       "      <td>1.000000</td>\n",
       "      <td>-0.662352</td>\n",
       "      <td>1.000000</td>\n",
       "      <td>-0.262680</td>\n",
       "      <td>0.301571</td>\n",
       "      <td>-0.182895</td>\n",
       "      <td>-0.812140</td>\n",
       "      <td>-0.060532</td>\n",
       "    </tr>\n",
       "    <tr>\n",
       "      <th>djlkscj</th>\n",
       "      <td>-0.004786</td>\n",
       "      <td>-0.056039</td>\n",
       "      <td>-0.001325</td>\n",
       "      <td>-0.662352</td>\n",
       "      <td>1.000000</td>\n",
       "      <td>-0.662352</td>\n",
       "      <td>0.106933</td>\n",
       "      <td>-0.038516</td>\n",
       "      <td>0.184877</td>\n",
       "      <td>0.865735</td>\n",
       "      <td>0.134929</td>\n",
       "    </tr>\n",
       "    <tr>\n",
       "      <th>kccj</th>\n",
       "      <td>0.004379</td>\n",
       "      <td>-0.010471</td>\n",
       "      <td>-0.011802</td>\n",
       "      <td>1.000000</td>\n",
       "      <td>-0.662352</td>\n",
       "      <td>1.000000</td>\n",
       "      <td>-0.262680</td>\n",
       "      <td>0.301571</td>\n",
       "      <td>-0.182895</td>\n",
       "      <td>-0.812140</td>\n",
       "      <td>-0.060532</td>\n",
       "    </tr>\n",
       "    <tr>\n",
       "      <th>xf</th>\n",
       "      <td>-0.007700</td>\n",
       "      <td>-0.008904</td>\n",
       "      <td>0.001733</td>\n",
       "      <td>-0.262680</td>\n",
       "      <td>0.106933</td>\n",
       "      <td>-0.262680</td>\n",
       "      <td>1.000000</td>\n",
       "      <td>-0.091361</td>\n",
       "      <td>0.151070</td>\n",
       "      <td>0.115268</td>\n",
       "      <td>-0.140619</td>\n",
       "    </tr>\n",
       "    <tr>\n",
       "      <th>kcsxdm</th>\n",
       "      <td>-0.029738</td>\n",
       "      <td>0.035620</td>\n",
       "      <td>-0.004665</td>\n",
       "      <td>0.301571</td>\n",
       "      <td>-0.038516</td>\n",
       "      <td>0.301571</td>\n",
       "      <td>-0.091361</td>\n",
       "      <td>1.000000</td>\n",
       "      <td>-0.022362</td>\n",
       "      <td>-0.035789</td>\n",
       "      <td>-0.006201</td>\n",
       "    </tr>\n",
       "    <tr>\n",
       "      <th>xdfsdm</th>\n",
       "      <td>-0.002772</td>\n",
       "      <td>0.008141</td>\n",
       "      <td>0.000719</td>\n",
       "      <td>-0.182895</td>\n",
       "      <td>0.184877</td>\n",
       "      <td>-0.182895</td>\n",
       "      <td>0.151070</td>\n",
       "      <td>-0.022362</td>\n",
       "      <td>1.000000</td>\n",
       "      <td>0.247411</td>\n",
       "      <td>-0.034385</td>\n",
       "    </tr>\n",
       "    <tr>\n",
       "      <th>djcj</th>\n",
       "      <td>-0.007461</td>\n",
       "      <td>-0.058710</td>\n",
       "      <td>-0.000745</td>\n",
       "      <td>-0.812140</td>\n",
       "      <td>0.865735</td>\n",
       "      <td>-0.812140</td>\n",
       "      <td>0.115268</td>\n",
       "      <td>-0.035789</td>\n",
       "      <td>0.247411</td>\n",
       "      <td>1.000000</td>\n",
       "      <td>0.216495</td>\n",
       "    </tr>\n",
       "    <tr>\n",
       "      <th>cjlrfsdm</th>\n",
       "      <td>-0.002541</td>\n",
       "      <td>0.020687</td>\n",
       "      <td>0.005656</td>\n",
       "      <td>-0.060532</td>\n",
       "      <td>0.134929</td>\n",
       "      <td>-0.060532</td>\n",
       "      <td>-0.140619</td>\n",
       "      <td>-0.006201</td>\n",
       "      <td>-0.034385</td>\n",
       "      <td>0.216495</td>\n",
       "      <td>1.000000</td>\n",
       "    </tr>\n",
       "  </tbody>\n",
       "</table>\n",
       "</div>"
      ],
      "text/plain": [
       "                xh       xqm      ksrq   fslkscj   djlkscj      kccj  \\\n",
       "xh        1.000000  0.001164  0.001685  0.004379 -0.004786  0.004379   \n",
       "xqm       0.001164  1.000000 -0.014919 -0.010471 -0.056039 -0.010471   \n",
       "ksrq      0.001685 -0.014919  1.000000 -0.011802 -0.001325 -0.011802   \n",
       "fslkscj   0.004379 -0.010471 -0.011802  1.000000 -0.662352  1.000000   \n",
       "djlkscj  -0.004786 -0.056039 -0.001325 -0.662352  1.000000 -0.662352   \n",
       "kccj      0.004379 -0.010471 -0.011802  1.000000 -0.662352  1.000000   \n",
       "xf       -0.007700 -0.008904  0.001733 -0.262680  0.106933 -0.262680   \n",
       "kcsxdm   -0.029738  0.035620 -0.004665  0.301571 -0.038516  0.301571   \n",
       "xdfsdm   -0.002772  0.008141  0.000719 -0.182895  0.184877 -0.182895   \n",
       "djcj     -0.007461 -0.058710 -0.000745 -0.812140  0.865735 -0.812140   \n",
       "cjlrfsdm -0.002541  0.020687  0.005656 -0.060532  0.134929 -0.060532   \n",
       "\n",
       "                xf    kcsxdm    xdfsdm      djcj  cjlrfsdm  \n",
       "xh       -0.007700 -0.029738 -0.002772 -0.007461 -0.002541  \n",
       "xqm      -0.008904  0.035620  0.008141 -0.058710  0.020687  \n",
       "ksrq      0.001733 -0.004665  0.000719 -0.000745  0.005656  \n",
       "fslkscj  -0.262680  0.301571 -0.182895 -0.812140 -0.060532  \n",
       "djlkscj   0.106933 -0.038516  0.184877  0.865735  0.134929  \n",
       "kccj     -0.262680  0.301571 -0.182895 -0.812140 -0.060532  \n",
       "xf        1.000000 -0.091361  0.151070  0.115268 -0.140619  \n",
       "kcsxdm   -0.091361  1.000000 -0.022362 -0.035789 -0.006201  \n",
       "xdfsdm    0.151070 -0.022362  1.000000  0.247411 -0.034385  \n",
       "djcj      0.115268 -0.035789  0.247411  1.000000  0.216495  \n",
       "cjlrfsdm -0.140619 -0.006201 -0.034385  0.216495  1.000000  "
      ]
     },
     "execution_count": 14,
     "metadata": {},
     "output_type": "execute_result"
    }
   ],
   "source": [
    "score.corr()"
   ]
  },
  {
   "cell_type": "markdown",
   "metadata": {},
   "source": [
    "**等级类考试成绩与等级成绩相关性超过0.86，课程成绩与分数类考试成绩相关性为1 两个均舍弃其中一个**"
   ]
  },
  {
   "cell_type": "code",
   "execution_count": 15,
   "metadata": {
    "scrolled": true
   },
   "outputs": [
    {
     "data": {
      "text/plain": [
       "-80.0    617176\n",
       "-70.0    365765\n",
       "-90.0    319211\n",
       "-60.0    257009\n",
       "-59.0    147320\n",
       "Name: djcj, dtype: int64"
      ]
     },
     "execution_count": 15,
     "metadata": {},
     "output_type": "execute_result"
    }
   ],
   "source": [
    "score['djcj'].value_counts()"
   ]
  },
  {
   "cell_type": "code",
   "execution_count": 16,
   "metadata": {},
   "outputs": [],
   "source": [
    "score.drop(columns=['djcj','fslkscj'],inplace=True)"
   ]
  },
  {
   "cell_type": "code",
   "execution_count": 17,
   "metadata": {},
   "outputs": [
    {
     "data": {
      "text/plain": [
       "14"
      ]
     },
     "execution_count": 17,
     "metadata": {},
     "output_type": "execute_result"
    }
   ],
   "source": [
    "score.shape[1]"
   ]
  },
  {
   "cell_type": "code",
   "execution_count": 18,
   "metadata": {},
   "outputs": [
    {
     "data": {
      "text/html": [
       "<div>\n",
       "<style scoped>\n",
       "    .dataframe tbody tr th:only-of-type {\n",
       "        vertical-align: middle;\n",
       "    }\n",
       "\n",
       "    .dataframe tbody tr th {\n",
       "        vertical-align: top;\n",
       "    }\n",
       "\n",
       "    .dataframe thead th {\n",
       "        text-align: right;\n",
       "    }\n",
       "</style>\n",
       "<table border=\"1\" class=\"dataframe\">\n",
       "  <thead>\n",
       "    <tr style=\"text-align: right;\">\n",
       "      <th></th>\n",
       "      <th>xh</th>\n",
       "      <th>xn</th>\n",
       "      <th>xqm</th>\n",
       "      <th>ksrq</th>\n",
       "      <th>kch</th>\n",
       "      <th>djlkscj</th>\n",
       "      <th>kccj</th>\n",
       "      <th>cjbh</th>\n",
       "      <th>xf</th>\n",
       "      <th>kcsxdm</th>\n",
       "      <th>xdfsdm</th>\n",
       "      <th>kxh</th>\n",
       "      <th>cjfw</th>\n",
       "      <th>cjlrfsdm</th>\n",
       "    </tr>\n",
       "  </thead>\n",
       "  <tbody>\n",
       "    <tr>\n",
       "      <th>0</th>\n",
       "      <td>201434063</td>\n",
       "      <td>2017-2018</td>\n",
       "      <td>1</td>\n",
       "      <td>20180114</td>\n",
       "      <td>1110020010</td>\n",
       "      <td>11.0</td>\n",
       "      <td>65.0</td>\n",
       "      <td>1110020010201446033201801142017-20181500ln</td>\n",
       "      <td>3.5</td>\n",
       "      <td>1.0</td>\n",
       "      <td>4.0</td>\n",
       "      <td>500</td>\n",
       "      <td>ln</td>\n",
       "      <td>1</td>\n",
       "    </tr>\n",
       "    <tr>\n",
       "      <th>1</th>\n",
       "      <td>201505099</td>\n",
       "      <td>2017-2018</td>\n",
       "      <td>1</td>\n",
       "      <td>20180114</td>\n",
       "      <td>1110020010</td>\n",
       "      <td>12.0</td>\n",
       "      <td>52.0</td>\n",
       "      <td>1110020010201559009201801142017-20181500ln</td>\n",
       "      <td>3.5</td>\n",
       "      <td>1.0</td>\n",
       "      <td>4.0</td>\n",
       "      <td>500</td>\n",
       "      <td>ln</td>\n",
       "      <td>1</td>\n",
       "    </tr>\n",
       "  </tbody>\n",
       "</table>\n",
       "</div>"
      ],
      "text/plain": [
       "          xh         xn  xqm      ksrq         kch  djlkscj  kccj  \\\n",
       "0  201434063  2017-2018    1  20180114  1110020010     11.0  65.0   \n",
       "1  201505099  2017-2018    1  20180114  1110020010     12.0  52.0   \n",
       "\n",
       "                                         cjbh   xf  kcsxdm  xdfsdm  kxh cjfw  \\\n",
       "0  1110020010201446033201801142017-20181500ln  3.5     1.0     4.0  500   ln   \n",
       "1  1110020010201559009201801142017-20181500ln  3.5     1.0     4.0  500   ln   \n",
       "\n",
       "   cjlrfsdm  \n",
       "0         1  \n",
       "1         1  "
      ]
     },
     "execution_count": 18,
     "metadata": {},
     "output_type": "execute_result"
    }
   ],
   "source": [
    "score.head(2)"
   ]
  },
  {
   "cell_type": "code",
   "execution_count": 19,
   "metadata": {},
   "outputs": [],
   "source": [
    "score.columns=['学号','学年','学期码','考试日期','课程号','等级成绩','课程成绩','成绩编号','学分','课程属性代码','修读方式代码','课序号','成绩范围','成绩录入方式代码']"
   ]
  },
  {
   "cell_type": "code",
   "execution_count": 20,
   "metadata": {},
   "outputs": [
    {
     "data": {
      "text/plain": [
       "学号               0\n",
       "学年               0\n",
       "学期码              0\n",
       "考试日期             0\n",
       "课程号              0\n",
       "等级成绩        137129\n",
       "课程成绩             0\n",
       "成绩编号             0\n",
       "学分               0\n",
       "课程属性代码          32\n",
       "修读方式代码         217\n",
       "课序号            214\n",
       "成绩范围             0\n",
       "成绩录入方式代码         0\n",
       "dtype: int64"
      ]
     },
     "execution_count": 20,
     "metadata": {},
     "output_type": "execute_result"
    }
   ],
   "source": [
    "score.isnull().sum()"
   ]
  },
  {
   "cell_type": "markdown",
   "metadata": {},
   "source": [
    "11 通过\n",
    "12 未通过\n",
    "01 优秀\n",
    "02 良好\n",
    "13 中等"
   ]
  },
  {
   "cell_type": "code",
   "execution_count": 21,
   "metadata": {},
   "outputs": [
    {
     "data": {
      "text/html": [
       "<div>\n",
       "<style scoped>\n",
       "    .dataframe tbody tr th:only-of-type {\n",
       "        vertical-align: middle;\n",
       "    }\n",
       "\n",
       "    .dataframe tbody tr th {\n",
       "        vertical-align: top;\n",
       "    }\n",
       "\n",
       "    .dataframe thead th {\n",
       "        text-align: right;\n",
       "    }\n",
       "</style>\n",
       "<table border=\"1\" class=\"dataframe\">\n",
       "  <thead>\n",
       "    <tr style=\"text-align: right;\">\n",
       "      <th></th>\n",
       "      <th>学号</th>\n",
       "      <th>学年</th>\n",
       "      <th>学期码</th>\n",
       "      <th>考试日期</th>\n",
       "      <th>课程号</th>\n",
       "      <th>等级成绩</th>\n",
       "      <th>课程成绩</th>\n",
       "      <th>成绩编号</th>\n",
       "      <th>学分</th>\n",
       "      <th>课程属性代码</th>\n",
       "      <th>修读方式代码</th>\n",
       "      <th>课序号</th>\n",
       "      <th>成绩范围</th>\n",
       "      <th>成绩录入方式代码</th>\n",
       "    </tr>\n",
       "  </thead>\n",
       "  <tbody>\n",
       "    <tr>\n",
       "      <th>0</th>\n",
       "      <td>201434063</td>\n",
       "      <td>2017-2018</td>\n",
       "      <td>1</td>\n",
       "      <td>20180114</td>\n",
       "      <td>1110020010</td>\n",
       "      <td>11.0</td>\n",
       "      <td>65.0</td>\n",
       "      <td>1110020010201446033201801142017-20181500ln</td>\n",
       "      <td>3.5</td>\n",
       "      <td>1.0</td>\n",
       "      <td>4.0</td>\n",
       "      <td>500</td>\n",
       "      <td>ln</td>\n",
       "      <td>1</td>\n",
       "    </tr>\n",
       "    <tr>\n",
       "      <th>1</th>\n",
       "      <td>201505099</td>\n",
       "      <td>2017-2018</td>\n",
       "      <td>1</td>\n",
       "      <td>20180114</td>\n",
       "      <td>1110020010</td>\n",
       "      <td>12.0</td>\n",
       "      <td>52.0</td>\n",
       "      <td>1110020010201559009201801142017-20181500ln</td>\n",
       "      <td>3.5</td>\n",
       "      <td>1.0</td>\n",
       "      <td>4.0</td>\n",
       "      <td>500</td>\n",
       "      <td>ln</td>\n",
       "      <td>1</td>\n",
       "    </tr>\n",
       "    <tr>\n",
       "      <th>2</th>\n",
       "      <td>201625067</td>\n",
       "      <td>2016-2017</td>\n",
       "      <td>2</td>\n",
       "      <td>20170625</td>\n",
       "      <td>1020820011</td>\n",
       "      <td>12.0</td>\n",
       "      <td>54.0</td>\n",
       "      <td>1020820011201656027201706252016-20172500ln</td>\n",
       "      <td>2.0</td>\n",
       "      <td>3.0</td>\n",
       "      <td>4.0</td>\n",
       "      <td>500</td>\n",
       "      <td>ln</td>\n",
       "      <td>1</td>\n",
       "    </tr>\n",
       "    <tr>\n",
       "      <th>3</th>\n",
       "      <td>201629056</td>\n",
       "      <td>2017-2018</td>\n",
       "      <td>2</td>\n",
       "      <td>20180701</td>\n",
       "      <td>1120020032</td>\n",
       "      <td>13.0</td>\n",
       "      <td>76.0</td>\n",
       "      <td>1120020032201695026201807012017-20182500ln</td>\n",
       "      <td>5.0</td>\n",
       "      <td>1.0</td>\n",
       "      <td>6.0</td>\n",
       "      <td>500</td>\n",
       "      <td>ln</td>\n",
       "      <td>1</td>\n",
       "    </tr>\n",
       "    <tr>\n",
       "      <th>4</th>\n",
       "      <td>201518039</td>\n",
       "      <td>2017-2018</td>\n",
       "      <td>2</td>\n",
       "      <td>20180701</td>\n",
       "      <td>1110020020</td>\n",
       "      <td>13.0</td>\n",
       "      <td>78.0</td>\n",
       "      <td>1110020020201583019201807012017-20182500ln</td>\n",
       "      <td>3.0</td>\n",
       "      <td>1.0</td>\n",
       "      <td>4.0</td>\n",
       "      <td>500</td>\n",
       "      <td>ln</td>\n",
       "      <td>1</td>\n",
       "    </tr>\n",
       "  </tbody>\n",
       "</table>\n",
       "</div>"
      ],
      "text/plain": [
       "          学号         学年  学期码      考试日期         课程号  等级成绩  课程成绩  \\\n",
       "0  201434063  2017-2018    1  20180114  1110020010  11.0  65.0   \n",
       "1  201505099  2017-2018    1  20180114  1110020010  12.0  52.0   \n",
       "2  201625067  2016-2017    2  20170625  1020820011  12.0  54.0   \n",
       "3  201629056  2017-2018    2  20180701  1120020032  13.0  76.0   \n",
       "4  201518039  2017-2018    2  20180701  1110020020  13.0  78.0   \n",
       "\n",
       "                                         成绩编号   学分  课程属性代码  修读方式代码  课序号 成绩范围  \\\n",
       "0  1110020010201446033201801142017-20181500ln  3.5     1.0     4.0  500   ln   \n",
       "1  1110020010201559009201801142017-20181500ln  3.5     1.0     4.0  500   ln   \n",
       "2  1020820011201656027201706252016-20172500ln  2.0     3.0     4.0  500   ln   \n",
       "3  1120020032201695026201807012017-20182500ln  5.0     1.0     6.0  500   ln   \n",
       "4  1110020020201583019201807012017-20182500ln  3.0     1.0     4.0  500   ln   \n",
       "\n",
       "   成绩录入方式代码  \n",
       "0         1  \n",
       "1         1  \n",
       "2         1  \n",
       "3         1  \n",
       "4         1  "
      ]
     },
     "execution_count": 21,
     "metadata": {},
     "output_type": "execute_result"
    }
   ],
   "source": [
    "score.head(5)"
   ]
  },
  {
   "cell_type": "code",
   "execution_count": 22,
   "metadata": {},
   "outputs": [
    {
     "data": {
      "text/plain": [
       "1    993632\n",
       "2    723490\n",
       "3    126488\n",
       "Name: 学期码, dtype: int64"
      ]
     },
     "execution_count": 22,
     "metadata": {},
     "output_type": "execute_result"
    }
   ],
   "source": [
    "score['学期码'].value_counts()"
   ]
  },
  {
   "cell_type": "code",
   "execution_count": 23,
   "metadata": {},
   "outputs": [
    {
     "name": "stdout",
     "output_type": "stream",
     "text": [
      "<class 'pandas.core.frame.DataFrame'>\n",
      "Int64Index: 1843610 entries, 0 to 795034\n",
      "Data columns (total 14 columns):\n",
      "学号          int64\n",
      "学年          object\n",
      "学期码         int64\n",
      "考试日期        int64\n",
      "课程号         object\n",
      "等级成绩        float64\n",
      "课程成绩        float64\n",
      "成绩编号        object\n",
      "学分          float64\n",
      "课程属性代码      float64\n",
      "修读方式代码      float64\n",
      "课序号         object\n",
      "成绩范围        object\n",
      "成绩录入方式代码    int64\n",
      "dtypes: float64(5), int64(4), object(5)\n",
      "memory usage: 211.0+ MB\n"
     ]
    }
   ],
   "source": [
    "score.info()"
   ]
  },
  {
   "cell_type": "code",
   "execution_count": 24,
   "metadata": {
    "scrolled": true
   },
   "outputs": [
    {
     "data": {
      "text/plain": [
       "ln    1838370\n",
       "lr       5240\n",
       "Name: 成绩范围, dtype: int64"
      ]
     },
     "execution_count": 24,
     "metadata": {},
     "output_type": "execute_result"
    }
   ],
   "source": [
    "score['成绩范围'].value_counts()"
   ]
  },
  {
   "cell_type": "code",
   "execution_count": 25,
   "metadata": {},
   "outputs": [
    {
     "data": {
      "text/plain": [
       "2.0     615278\n",
       "13.0    364758\n",
       "1.0     317731\n",
       "11.0    256425\n",
       "12.0    147058\n",
       "Name: 等级成绩, dtype: int64"
      ]
     },
     "execution_count": 25,
     "metadata": {},
     "output_type": "execute_result"
    }
   ],
   "source": [
    "score[score['成绩范围']== 'ln']['等级成绩'].value_counts() #历年成绩库和当前录入成绩库，有什么区别？"
   ]
  },
  {
   "cell_type": "code",
   "execution_count": 26,
   "metadata": {},
   "outputs": [],
   "source": [
    "## 先考虑成绩范围：历年成绩库和当前录入成绩库没有影响\n",
    "score.drop(columns=['成绩范围'],inplace=True)"
   ]
  },
  {
   "cell_type": "code",
   "execution_count": 27,
   "metadata": {},
   "outputs": [
    {
     "data": {
      "text/plain": [
       "1    137121\n",
       "2         8\n",
       "Name: 成绩录入方式代码, dtype: int64"
      ]
     },
     "execution_count": 27,
     "metadata": {},
     "output_type": "execute_result"
    }
   ],
   "source": [
    "score[score['等级成绩'].isnull()]['成绩录入方式代码'].value_counts()"
   ]
  },
  {
   "cell_type": "code",
   "execution_count": 28,
   "metadata": {},
   "outputs": [],
   "source": [
    "## 成绩录入方式代码为1表示录入百分成绩，2表示录入等级成绩\n",
    "## 如果录入百分成绩等级成绩可以为空，添加一个新的表示00，表示无等级成绩\n",
    "## 录入等级成绩，等级成绩却为NaN，应该是缺失了，删掉这8条数据\n",
    "## 先删除那8条数据\n",
    "djcj_null = score[score['等级成绩'].isnull()]\n",
    "djcj_nan = djcj_null[djcj_null['成绩录入方式代码'] == 2]\n",
    "score.drop(axis=0,labels=djcj_nan.index,inplace=True)"
   ]
  },
  {
   "cell_type": "code",
   "execution_count": 29,
   "metadata": {},
   "outputs": [],
   "source": [
    "import math\n",
    "score['等级成绩'] = score['等级成绩'].apply(lambda x:0 if math.isnan(x) else x)"
   ]
  },
  {
   "cell_type": "code",
   "execution_count": 30,
   "metadata": {},
   "outputs": [
    {
     "data": {
      "text/plain": [
       "0"
      ]
     },
     "execution_count": 30,
     "metadata": {},
     "output_type": "execute_result"
    }
   ],
   "source": [
    "score['等级成绩'].isnull().sum()"
   ]
  },
  {
   "cell_type": "code",
   "execution_count": 31,
   "metadata": {},
   "outputs": [
    {
     "data": {
      "text/plain": [
       "学号            0\n",
       "学年            0\n",
       "学期码           0\n",
       "考试日期          0\n",
       "课程号           0\n",
       "等级成绩          0\n",
       "课程成绩          0\n",
       "成绩编号          0\n",
       "学分            0\n",
       "课程属性代码       32\n",
       "修读方式代码      217\n",
       "课序号         214\n",
       "成绩录入方式代码      0\n",
       "dtype: int64"
      ]
     },
     "execution_count": 31,
     "metadata": {},
     "output_type": "execute_result"
    }
   ],
   "source": [
    "score.isnull().sum()"
   ]
  },
  {
   "cell_type": "code",
   "execution_count": 32,
   "metadata": {},
   "outputs": [
    {
     "data": {
      "text/plain": [
       "1.0    1357590\n",
       "0.0     258204\n",
       "3.0     207959\n",
       "4.0      19813\n",
       "Name: 课程属性代码, dtype: int64"
      ]
     },
     "execution_count": 32,
     "metadata": {},
     "output_type": "execute_result"
    }
   ],
   "source": [
    "score['课程属性代码'].value_counts()"
   ]
  },
  {
   "cell_type": "markdown",
   "metadata": {},
   "source": [
    "**课序号并不是数字类型的数据，有重，重辅，篮球，网等表示**"
   ]
  },
  {
   "cell_type": "markdown",
   "metadata": {},
   "source": [
    "**用相同课程号的课程属性代码填补缺失的课程属性代码**"
   ]
  },
  {
   "cell_type": "code",
   "execution_count": 33,
   "metadata": {
    "scrolled": true
   },
   "outputs": [],
   "source": [
    "kcsx_null = score[score['课程属性代码'].isnull()]"
   ]
  },
  {
   "cell_type": "code",
   "execution_count": 34,
   "metadata": {},
   "outputs": [],
   "source": [
    "for i in kcsx_null.index:\n",
    "    temp = score[score['课程号'] == kcsx_null.loc[i,'课程号']]['课程属性代码'].median()\n",
    "    score.loc[i,'课程属性代码'] = temp"
   ]
  },
  {
   "cell_type": "code",
   "execution_count": 35,
   "metadata": {},
   "outputs": [
    {
     "data": {
      "text/plain": [
       "0"
      ]
     },
     "execution_count": 35,
     "metadata": {},
     "output_type": "execute_result"
    }
   ],
   "source": [
    "score['课程属性代码'].isnull().sum()"
   ]
  },
  {
   "cell_type": "code",
   "execution_count": 36,
   "metadata": {},
   "outputs": [
    {
     "data": {
      "text/plain": [
       "学号            0\n",
       "学年            0\n",
       "学期码           0\n",
       "考试日期          0\n",
       "课程号           0\n",
       "等级成绩          0\n",
       "课程成绩          0\n",
       "成绩编号          0\n",
       "学分            0\n",
       "课程属性代码        0\n",
       "修读方式代码      217\n",
       "课序号         214\n",
       "成绩录入方式代码      0\n",
       "dtype: int64"
      ]
     },
     "execution_count": 36,
     "metadata": {},
     "output_type": "execute_result"
    }
   ],
   "source": [
    "score.isnull().sum()"
   ]
  },
  {
   "cell_type": "markdown",
   "metadata": {},
   "source": [
    "**相同课程在不同学期的课程号是否一样，课序号是否一样？？？**"
   ]
  },
  {
   "cell_type": "markdown",
   "metadata": {},
   "source": [
    "**修读方式填补需要检测该学生是否修过该课程，如果没修过是正常，如果修过成绩为不及格应该是重修，如果修过的成绩及格应该是辅修，补考是？？？**"
   ]
  },
  {
   "cell_type": "code",
   "execution_count": 37,
   "metadata": {},
   "outputs": [],
   "source": [
    "xdfs_null = score[score['修读方式代码'].isnull()]"
   ]
  },
  {
   "cell_type": "markdown",
   "metadata": {},
   "source": [
    "不如删掉，这也太麻烦了吧"
   ]
  },
  {
   "cell_type": "code",
   "execution_count": 38,
   "metadata": {},
   "outputs": [],
   "source": [
    "score.drop(labels=xdfs_null.index,inplace=True)"
   ]
  },
  {
   "cell_type": "code",
   "execution_count": 39,
   "metadata": {},
   "outputs": [
    {
     "data": {
      "text/plain": [
       "学号            0\n",
       "学年            0\n",
       "学期码           0\n",
       "考试日期          0\n",
       "课程号           0\n",
       "等级成绩          0\n",
       "课程成绩          0\n",
       "成绩编号          0\n",
       "学分            0\n",
       "课程属性代码        0\n",
       "修读方式代码        0\n",
       "课序号         194\n",
       "成绩录入方式代码      0\n",
       "dtype: int64"
      ]
     },
     "execution_count": 39,
     "metadata": {},
     "output_type": "execute_result"
    }
   ],
   "source": [
    "score.isnull().sum()"
   ]
  },
  {
   "cell_type": "markdown",
   "metadata": {},
   "source": [
    "课序号需要用相同课程号的课序号来填补，但是课序号的数据类型为object,如何从一个dataframe中取出某列单个元素的值呢，还不能用到索引？"
   ]
  },
  {
   "cell_type": "code",
   "execution_count": 45,
   "metadata": {},
   "outputs": [],
   "source": [
    "kxh_null = score[score['课序号'].isnull()]\n",
    "for i in kxh_null.index:\n",
    "    temp = score[score['课程号'] == kxh_null.loc[i,'课程号']]\n",
    "    temp = temp[['课序号']]\n",
    "    temp.dropna(how='any',inplace=True)\n",
    "    temp = temp.reset_index(drop=True)\n",
    "    if temp.empty == False :\n",
    "        score.loc[i,'课序号'] = temp.at[0,'课序号']"
   ]
  },
  {
   "cell_type": "code",
   "execution_count": 46,
   "metadata": {
    "scrolled": false
   },
   "outputs": [
    {
     "data": {
      "text/plain": [
       "学号           0\n",
       "学年           0\n",
       "学期码          0\n",
       "考试日期         0\n",
       "课程号          0\n",
       "等级成绩         0\n",
       "课程成绩         0\n",
       "成绩编号         0\n",
       "学分           0\n",
       "课程属性代码       0\n",
       "修读方式代码       0\n",
       "课序号         18\n",
       "成绩录入方式代码     0\n",
       "dtype: int64"
      ]
     },
     "execution_count": 46,
     "metadata": {},
     "output_type": "execute_result"
    }
   ],
   "source": [
    "score.isnull().sum()"
   ]
  },
  {
   "cell_type": "markdown",
   "metadata": {},
   "source": [
    "**用-1来表示课序号缺失**"
   ]
  },
  {
   "cell_type": "code",
   "execution_count": 51,
   "metadata": {},
   "outputs": [],
   "source": [
    "score.fillna(-1,inplace=True)"
   ]
  },
  {
   "cell_type": "code",
   "execution_count": 52,
   "metadata": {
    "scrolled": true
   },
   "outputs": [
    {
     "data": {
      "text/plain": [
       "学号          0\n",
       "学年          0\n",
       "学期码         0\n",
       "考试日期        0\n",
       "课程号         0\n",
       "等级成绩        0\n",
       "课程成绩        0\n",
       "成绩编号        0\n",
       "学分          0\n",
       "课程属性代码      0\n",
       "修读方式代码      0\n",
       "课序号         0\n",
       "成绩录入方式代码    0\n",
       "dtype: int64"
      ]
     },
     "execution_count": 52,
     "metadata": {},
     "output_type": "execute_result"
    }
   ],
   "source": [
    "score.isnull().sum()"
   ]
  },
  {
   "cell_type": "code",
   "execution_count": 53,
   "metadata": {},
   "outputs": [],
   "source": [
    "score.to_csv('score.csv',index=False,encoding='utf-8')"
   ]
  }
 ],
 "metadata": {
  "kernelspec": {
   "display_name": "Python 3",
   "language": "python",
   "name": "python3"
  },
  "language_info": {
   "codemirror_mode": {
    "name": "ipython",
    "version": 3
   },
   "file_extension": ".py",
   "mimetype": "text/x-python",
   "name": "python",
   "nbconvert_exporter": "python",
   "pygments_lexer": "ipython3",
   "version": "3.6.8"
  }
 },
 "nbformat": 4,
 "nbformat_minor": 2
}
